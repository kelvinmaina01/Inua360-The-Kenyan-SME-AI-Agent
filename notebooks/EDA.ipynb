{
  "cells": [
    {
      "cell_type": "markdown",
      "metadata": {
        "colab_type": "text",
        "id": "view-in-github"
      },
      "source": [
        "<a href=\"https://colab.research.google.com/github/kelvinmaina01/Inua360-The-Kenyan-SME-AI-Agent/blob/ml/EDA.ipynb\" target=\"_parent\"><img src=\"https://colab.research.google.com/assets/colab-badge.svg\" alt=\"Open In Colab\"/></a>"
      ]
    },
    {
      "cell_type": "code",
      "execution_count": 23,
      "metadata": {
        "id": "i5CUHr4D898c"
      },
      "outputs": [],
      "source": [
        "import sys\n",
        "from pathlib import Path\n",
        "import pandas as pd\n",
        "import numpy as np\n",
        "import matplotlib.pyplot as plt\n",
        "import seaborn as sns"
      ]
    },
    {
      "cell_type": "code",
      "execution_count": 24,
      "metadata": {
        "id": "-5UDJgUb9ic0"
      },
      "outputs": [],
      "source": [
        "df = pd.read_csv(r\"C:\\Users\\USER\\Desktop\\Inua360-The-Kenyan-SME-AI-Agent\\data\\raw\\african_sme_digital_transformation.csv\")"
      ]
    },
    {
      "cell_type": "code",
      "execution_count": 25,
      "metadata": {
        "colab": {
          "base_uri": "https://localhost:8080/",
          "height": 278
        },
        "id": "1mr9Zg0v_Y9W",
        "outputId": "33084699-c7f7-45db-fc79-9360e801bdb7"
      },
      "outputs": [
        {
          "data": {
            "text/html": [
              "<div>\n",
              "<style scoped>\n",
              "    .dataframe tbody tr th:only-of-type {\n",
              "        vertical-align: middle;\n",
              "    }\n",
              "\n",
              "    .dataframe tbody tr th {\n",
              "        vertical-align: top;\n",
              "    }\n",
              "\n",
              "    .dataframe thead th {\n",
              "        text-align: right;\n",
              "    }\n",
              "</style>\n",
              "<table border=\"1\" class=\"dataframe\">\n",
              "  <thead>\n",
              "    <tr style=\"text-align: right;\">\n",
              "      <th></th>\n",
              "      <th>company_id</th>\n",
              "      <th>country</th>\n",
              "      <th>sector</th>\n",
              "      <th>employees</th>\n",
              "      <th>annual_revenue</th>\n",
              "      <th>tech_adoption_level</th>\n",
              "      <th>main_challenges</th>\n",
              "      <th>digital_tools_used</th>\n",
              "      <th>growth_last_yr</th>\n",
              "      <th>funding_status</th>\n",
              "      <th>female_owned</th>\n",
              "      <th>remote_work_policy</th>\n",
              "    </tr>\n",
              "  </thead>\n",
              "  <tbody>\n",
              "    <tr>\n",
              "      <th>0</th>\n",
              "      <td>1</td>\n",
              "      <td>Ghana</td>\n",
              "      <td>Education</td>\n",
              "      <td>130</td>\n",
              "      <td>386441</td>\n",
              "      <td>Low</td>\n",
              "      <td>Awareness</td>\n",
              "      <td>CRM, WhatsApp, E-commerce</td>\n",
              "      <td>11</td>\n",
              "      <td>Seed</td>\n",
              "      <td>No</td>\n",
              "      <td>NaN</td>\n",
              "    </tr>\n",
              "    <tr>\n",
              "      <th>1</th>\n",
              "      <td>2</td>\n",
              "      <td>Rwanda</td>\n",
              "      <td>Farming</td>\n",
              "      <td>367</td>\n",
              "      <td>383576</td>\n",
              "      <td>Low</td>\n",
              "      <td>Internet</td>\n",
              "      <td>WhatsApp</td>\n",
              "      <td>27</td>\n",
              "      <td>Series A</td>\n",
              "      <td>Yes</td>\n",
              "      <td>Partial</td>\n",
              "    </tr>\n",
              "    <tr>\n",
              "      <th>2</th>\n",
              "      <td>3</td>\n",
              "      <td>Kenya</td>\n",
              "      <td>Farming</td>\n",
              "      <td>87</td>\n",
              "      <td>496528</td>\n",
              "      <td>Low</td>\n",
              "      <td>Awareness, Internet</td>\n",
              "      <td>Google My Business, Mobile money, POS</td>\n",
              "      <td>1</td>\n",
              "      <td>Bootstrapped</td>\n",
              "      <td>No</td>\n",
              "      <td>Full</td>\n",
              "    </tr>\n",
              "    <tr>\n",
              "      <th>3</th>\n",
              "      <td>4</td>\n",
              "      <td>Kenya</td>\n",
              "      <td>Manufacturing</td>\n",
              "      <td>131</td>\n",
              "      <td>360550</td>\n",
              "      <td>High</td>\n",
              "      <td>Regulation</td>\n",
              "      <td>Google My Business, E-commerce, POS</td>\n",
              "      <td>6</td>\n",
              "      <td>NaN</td>\n",
              "      <td>Yes</td>\n",
              "      <td>Full</td>\n",
              "    </tr>\n",
              "    <tr>\n",
              "      <th>4</th>\n",
              "      <td>5</td>\n",
              "      <td>Nigeria</td>\n",
              "      <td>Logistics</td>\n",
              "      <td>136</td>\n",
              "      <td>173801</td>\n",
              "      <td>High</td>\n",
              "      <td>Regulation, Skills</td>\n",
              "      <td>E-commerce</td>\n",
              "      <td>44</td>\n",
              "      <td>Series A</td>\n",
              "      <td>Yes</td>\n",
              "      <td>Partial</td>\n",
              "    </tr>\n",
              "  </tbody>\n",
              "</table>\n",
              "</div>"
            ],
            "text/plain": [
              "   company_id  country         sector  employees  annual_revenue  \\\n",
              "0           1    Ghana      Education        130          386441   \n",
              "1           2   Rwanda        Farming        367          383576   \n",
              "2           3    Kenya        Farming         87          496528   \n",
              "3           4    Kenya  Manufacturing        131          360550   \n",
              "4           5  Nigeria      Logistics        136          173801   \n",
              "\n",
              "  tech_adoption_level      main_challenges  \\\n",
              "0                 Low            Awareness   \n",
              "1                 Low             Internet   \n",
              "2                 Low  Awareness, Internet   \n",
              "3                High           Regulation   \n",
              "4                High   Regulation, Skills   \n",
              "\n",
              "                      digital_tools_used  growth_last_yr funding_status  \\\n",
              "0              CRM, WhatsApp, E-commerce              11           Seed   \n",
              "1                               WhatsApp              27       Series A   \n",
              "2  Google My Business, Mobile money, POS               1   Bootstrapped   \n",
              "3    Google My Business, E-commerce, POS               6            NaN   \n",
              "4                             E-commerce              44       Series A   \n",
              "\n",
              "  female_owned remote_work_policy  \n",
              "0           No                NaN  \n",
              "1          Yes            Partial  \n",
              "2           No               Full  \n",
              "3          Yes               Full  \n",
              "4          Yes            Partial  "
            ]
          },
          "execution_count": 25,
          "metadata": {},
          "output_type": "execute_result"
        }
      ],
      "source": [
        "df.head()"
      ]
    },
    {
      "cell_type": "code",
      "execution_count": 26,
      "metadata": {
        "colab": {
          "base_uri": "https://localhost:8080/"
        },
        "id": "w8zneEZI_muL",
        "outputId": "a3257bdf-1f07-4569-d168-47ad5c1d4998"
      },
      "outputs": [
        {
          "data": {
            "text/plain": [
              "(1000, 12)"
            ]
          },
          "execution_count": 26,
          "metadata": {},
          "output_type": "execute_result"
        }
      ],
      "source": [
        "df.shape"
      ]
    },
    {
      "cell_type": "code",
      "execution_count": 27,
      "metadata": {
        "colab": {
          "base_uri": "https://localhost:8080/",
          "height": 460
        },
        "id": "4izXZK4v_vya",
        "outputId": "ad5f4645-2672-4c69-a2dd-806083c47c54"
      },
      "outputs": [
        {
          "data": {
            "text/plain": [
              "company_id               0\n",
              "country                  0\n",
              "sector                   0\n",
              "employees                0\n",
              "annual_revenue           0\n",
              "tech_adoption_level      0\n",
              "main_challenges          0\n",
              "digital_tools_used       0\n",
              "growth_last_yr           0\n",
              "funding_status         254\n",
              "female_owned             0\n",
              "remote_work_policy     323\n",
              "dtype: int64"
            ]
          },
          "execution_count": 27,
          "metadata": {},
          "output_type": "execute_result"
        }
      ],
      "source": [
        "df.isnull().sum()"
      ]
    },
    {
      "cell_type": "code",
      "execution_count": 28,
      "metadata": {
        "colab": {
          "base_uri": "https://localhost:8080/"
        },
        "id": "yLwH8bCr_79t",
        "outputId": "56e6b832-0f00-4aeb-81a2-72092b45985a"
      },
      "outputs": [
        {
          "name": "stdout",
          "output_type": "stream",
          "text": [
            "<class 'pandas.core.frame.DataFrame'>\n",
            "RangeIndex: 1000 entries, 0 to 999\n",
            "Data columns (total 12 columns):\n",
            " #   Column               Non-Null Count  Dtype \n",
            "---  ------               --------------  ----- \n",
            " 0   company_id           1000 non-null   int64 \n",
            " 1   country              1000 non-null   object\n",
            " 2   sector               1000 non-null   object\n",
            " 3   employees            1000 non-null   int64 \n",
            " 4   annual_revenue       1000 non-null   int64 \n",
            " 5   tech_adoption_level  1000 non-null   object\n",
            " 6   main_challenges      1000 non-null   object\n",
            " 7   digital_tools_used   1000 non-null   object\n",
            " 8   growth_last_yr       1000 non-null   int64 \n",
            " 9   funding_status       746 non-null    object\n",
            " 10  female_owned         1000 non-null   object\n",
            " 11  remote_work_policy   677 non-null    object\n",
            "dtypes: int64(4), object(8)\n",
            "memory usage: 93.9+ KB\n"
          ]
        }
      ],
      "source": [
        "df.info()"
      ]
    },
    {
      "cell_type": "code",
      "execution_count": 29,
      "metadata": {
        "colab": {
          "base_uri": "https://localhost:8080/",
          "height": 300
        },
        "id": "Gm3VIYkuJTjs",
        "outputId": "f45b331a-e5b3-460c-f01c-330d4566a243"
      },
      "outputs": [
        {
          "data": {
            "text/html": [
              "<div>\n",
              "<style scoped>\n",
              "    .dataframe tbody tr th:only-of-type {\n",
              "        vertical-align: middle;\n",
              "    }\n",
              "\n",
              "    .dataframe tbody tr th {\n",
              "        vertical-align: top;\n",
              "    }\n",
              "\n",
              "    .dataframe thead th {\n",
              "        text-align: right;\n",
              "    }\n",
              "</style>\n",
              "<table border=\"1\" class=\"dataframe\">\n",
              "  <thead>\n",
              "    <tr style=\"text-align: right;\">\n",
              "      <th></th>\n",
              "      <th>company_id</th>\n",
              "      <th>employees</th>\n",
              "      <th>annual_revenue</th>\n",
              "      <th>growth_last_yr</th>\n",
              "    </tr>\n",
              "  </thead>\n",
              "  <tbody>\n",
              "    <tr>\n",
              "      <th>count</th>\n",
              "      <td>1000.000000</td>\n",
              "      <td>1000.000000</td>\n",
              "      <td>1000.000000</td>\n",
              "      <td>1000.000000</td>\n",
              "    </tr>\n",
              "    <tr>\n",
              "      <th>mean</th>\n",
              "      <td>500.500000</td>\n",
              "      <td>257.416000</td>\n",
              "      <td>246821.473000</td>\n",
              "      <td>22.463000</td>\n",
              "    </tr>\n",
              "    <tr>\n",
              "      <th>std</th>\n",
              "      <td>288.819436</td>\n",
              "      <td>144.479775</td>\n",
              "      <td>137875.506025</td>\n",
              "      <td>16.268968</td>\n",
              "    </tr>\n",
              "    <tr>\n",
              "      <th>min</th>\n",
              "      <td>1.000000</td>\n",
              "      <td>5.000000</td>\n",
              "      <td>10161.000000</td>\n",
              "      <td>-5.000000</td>\n",
              "    </tr>\n",
              "    <tr>\n",
              "      <th>25%</th>\n",
              "      <td>250.750000</td>\n",
              "      <td>130.750000</td>\n",
              "      <td>131194.000000</td>\n",
              "      <td>9.000000</td>\n",
              "    </tr>\n",
              "    <tr>\n",
              "      <th>50%</th>\n",
              "      <td>500.500000</td>\n",
              "      <td>261.000000</td>\n",
              "      <td>247017.000000</td>\n",
              "      <td>22.000000</td>\n",
              "    </tr>\n",
              "    <tr>\n",
              "      <th>75%</th>\n",
              "      <td>750.250000</td>\n",
              "      <td>387.250000</td>\n",
              "      <td>355288.750000</td>\n",
              "      <td>37.000000</td>\n",
              "    </tr>\n",
              "    <tr>\n",
              "      <th>max</th>\n",
              "      <td>1000.000000</td>\n",
              "      <td>499.000000</td>\n",
              "      <td>499366.000000</td>\n",
              "      <td>50.000000</td>\n",
              "    </tr>\n",
              "  </tbody>\n",
              "</table>\n",
              "</div>"
            ],
            "text/plain": [
              "        company_id    employees  annual_revenue  growth_last_yr\n",
              "count  1000.000000  1000.000000     1000.000000     1000.000000\n",
              "mean    500.500000   257.416000   246821.473000       22.463000\n",
              "std     288.819436   144.479775   137875.506025       16.268968\n",
              "min       1.000000     5.000000    10161.000000       -5.000000\n",
              "25%     250.750000   130.750000   131194.000000        9.000000\n",
              "50%     500.500000   261.000000   247017.000000       22.000000\n",
              "75%     750.250000   387.250000   355288.750000       37.000000\n",
              "max    1000.000000   499.000000   499366.000000       50.000000"
            ]
          },
          "execution_count": 29,
          "metadata": {},
          "output_type": "execute_result"
        }
      ],
      "source": [
        "df.describe()\n"
      ]
    },
    {
      "cell_type": "code",
      "execution_count": 30,
      "metadata": {
        "colab": {
          "base_uri": "https://localhost:8080/",
          "height": 272
        },
        "id": "bgYSSiWpJbWS",
        "outputId": "a126272a-a6ae-4001-9b54-8915c1fc6cfd"
      },
      "outputs": [
        {
          "data": {
            "text/plain": [
              "country\n",
              "Ghana           218\n",
              "Nigeria         214\n",
              "Kenya           208\n",
              "Rwanda          188\n",
              "South Africa    172\n",
              "Name: count, dtype: int64"
            ]
          },
          "execution_count": 30,
          "metadata": {},
          "output_type": "execute_result"
        }
      ],
      "source": [
        "df['country'].value_counts()\n"
      ]
    },
    {
      "cell_type": "code",
      "execution_count": 31,
      "metadata": {
        "colab": {
          "base_uri": "https://localhost:8080/",
          "height": 272
        },
        "id": "yuL9Oza_Je38",
        "outputId": "77295f58-cc3f-4fc4-a623-fe204ff65fe5"
      },
      "outputs": [
        {
          "data": {
            "text/plain": [
              "country\n",
              "Ghana           238852.357798\n",
              "Kenya           237983.514423\n",
              "Nigeria         244944.191589\n",
              "Rwanda          260418.851064\n",
              "South Africa    255083.063953\n",
              "Name: annual_revenue, dtype: float64"
            ]
          },
          "execution_count": 31,
          "metadata": {},
          "output_type": "execute_result"
        }
      ],
      "source": [
        "df.groupby('country')['annual_revenue'].mean()"
      ]
    },
    {
      "cell_type": "code",
      "execution_count": 32,
      "metadata": {
        "colab": {
          "base_uri": "https://localhost:8080/",
          "height": 406
        },
        "id": "2f7ad185",
        "outputId": "2f9ba35b-72e2-4313-851d-38273b9f2c75"
      },
      "outputs": [
        {
          "data": {
            "image/png": "[encoded data removed]",
            "text/plain": [
              "<Figure size 1500x500 with 4 Axes>"
            ]
          },
          "metadata": {},
          "output_type": "display_data"
        },
        {
          "name": "stdout",
          "output_type": "stream",
          "text": [
            "Figure saved at: C:\\Users\\USER\\Desktop\\Inua360-The-Kenyan-SME-AI-Agent\\reports\\figures\\numerical_distribution.png\n"
          ]
        }
      ],
      "source": [
        "numerical_cols = ['employees', 'annual_revenue', 'growth_last_yr']\n",
        "\n",
        "from pathlib import Path\n",
        "import matplotlib.pyplot as plt\n",
        "\n",
        "REPORTS_DIR = Path(r\"C:\\Users\\USER\\Desktop\\Inua360-The-Kenyan-SME-AI-Agent\\reports\\figures\")\n",
        "REPORTS_DIR.mkdir(parents=True, exist_ok=True)  # ensures folder exists\n",
        "\n",
        "save_path = REPORTS_DIR / \"numerical_distribution.png\"\n",
        "\n",
        "df[numerical_cols].hist(bins=20, figsize=(15, 5))\n",
        "plt.suptitle('Distribution of Numerical Features', y=1.02)\n",
        "plt.tight_layout()\n",
        "plt.savefig(save_path, dpi=300, bbox_inches='tight')\n",
        "plt.show()\n",
        "\n",
        "print(f\"Figure saved at: {save_path}\")\n"
      ]
    },
    {
      "cell_type": "code",
      "execution_count": 33,
      "metadata": {
        "colab": {
          "base_uri": "https://localhost:8080/",
          "height": 1000
        },
        "id": "MPh0zG1HLT2d",
        "outputId": "60b5f0ca-ae05-4085-e825-db0043e508e8"
      },
      "outputs": [
        {
          "name": "stdout",
          "output_type": "stream",
          "text": [
            "Saved: C:\\Users\\USER\\Desktop\\Inua360-The-Kenyan-SME-AI-Agent\\reports\\figures\\country_distribution.png\n",
            "Saved: C:\\Users\\USER\\Desktop\\Inua360-The-Kenyan-SME-AI-Agent\\reports\\figures\\sector_distribution.png\n",
            "Saved: C:\\Users\\USER\\Desktop\\Inua360-The-Kenyan-SME-AI-Agent\\reports\\figures\\tech_adoption_level_distribution.png\n"
          ]
        }
      ],
      "source": [
        "import matplotlib.pyplot as plt\n",
        "from pathlib import Path\n",
        "\n",
        "categorical_cols = ['country', 'sector', 'tech_adoption_level']\n",
        "\n",
        "REPORTS_DIR = Path(r\"C:\\Users\\USER\\Desktop\\Inua360-The-Kenyan-SME-AI-Agent\\reports\\figures\")\n",
        "REPORTS_DIR.mkdir(parents=True, exist_ok=True)\n",
        "\n",
        "for col in categorical_cols:\n",
        "    plt.figure(figsize=(6, 5))\n",
        "    df[col].value_counts().plot(kind='bar')\n",
        "    plt.title(f'Distribution of {col}')\n",
        "    plt.xlabel(col)\n",
        "    plt.ylabel('Frequency')\n",
        "    plt.xticks(rotation=45, ha='right')\n",
        "    plt.tight_layout()\n",
        "    \n",
        "     \n",
        "    save_path = REPORTS_DIR / f\"{col}_distribution.png\"\n",
        "    plt.savefig(save_path, dpi=300, bbox_inches='tight')\n",
        "    plt.close()  \n",
        "    \n",
        "    print(f\"Saved: {save_path}\")\n"
      ]
    },
    {
      "cell_type": "code",
      "execution_count": 34,
      "metadata": {
        "colab": {
          "base_uri": "https://localhost:8080/"
        },
        "id": "77984bb0",
        "outputId": "294875a4-28ee-4552-9abd-342f28f3bce2"
      },
      "outputs": [
        {
          "name": "stdout",
          "output_type": "stream",
          "text": [
            "funding_status\n",
            "Series A        259\n",
            "NaN             254\n",
            "Seed            252\n",
            "Bootstrapped    235\n",
            "Name: count, dtype: int64\n",
            "remote_work_policy\n",
            "Full       351\n",
            "Partial    326\n",
            "NaN        323\n",
            "Name: count, dtype: int64\n"
          ]
        }
      ],
      "source": [
        "print(df['funding_status'].value_counts(dropna=False))\n",
        "print(df['remote_work_policy'].value_counts(dropna=False))"
      ]
    },
    {
      "cell_type": "code",
      "execution_count": 35,
      "metadata": {
        "colab": {
          "base_uri": "https://localhost:8080/"
        },
        "id": "f390adfa",
        "outputId": "c76150ed-dcb5-4c43-cd82-135a973c1ee3"
      },
      "outputs": [
        {
          "name": "stdout",
          "output_type": "stream",
          "text": [
            "company_id             0\n",
            "country                0\n",
            "sector                 0\n",
            "employees              0\n",
            "annual_revenue         0\n",
            "tech_adoption_level    0\n",
            "main_challenges        0\n",
            "digital_tools_used     0\n",
            "growth_last_yr         0\n",
            "funding_status         0\n",
            "female_owned           0\n",
            "remote_work_policy     0\n",
            "dtype: int64\n"
          ]
        }
      ],
      "source": [
        "df['funding_status'] = df['funding_status'].fillna('Unknown')\n",
        "df['remote_work_policy'] = df['remote_work_policy'].fillna('No Policy')\n",
        "print(df.isnull().sum())"
      ]
    },
    {
      "cell_type": "code",
      "execution_count": 36,
      "metadata": {
        "colab": {
          "base_uri": "https://localhost:8080/",
          "height": 894
        },
        "id": "7c9cebcf",
        "outputId": "0500d280-095f-4cb2-b93b-eb8c34acdf6a"
      },
      "outputs": [
        {
          "name": "stdout",
          "output_type": "stream",
          "text": [
            "Mean annual revenue and growth by country:\n"
          ]
        },
        {
          "data": {
            "text/html": [
              "<div>\n",
              "<style scoped>\n",
              "    .dataframe tbody tr th:only-of-type {\n",
              "        vertical-align: middle;\n",
              "    }\n",
              "\n",
              "    .dataframe tbody tr th {\n",
              "        vertical-align: top;\n",
              "    }\n",
              "\n",
              "    .dataframe thead th {\n",
              "        text-align: right;\n",
              "    }\n",
              "</style>\n",
              "<table border=\"1\" class=\"dataframe\">\n",
              "  <thead>\n",
              "    <tr style=\"text-align: right;\">\n",
              "      <th></th>\n",
              "      <th>annual_revenue</th>\n",
              "      <th>growth_last_yr</th>\n",
              "    </tr>\n",
              "    <tr>\n",
              "      <th>country</th>\n",
              "      <th></th>\n",
              "      <th></th>\n",
              "    </tr>\n",
              "  </thead>\n",
              "  <tbody>\n",
              "    <tr>\n",
              "      <th>Ghana</th>\n",
              "      <td>238852.357798</td>\n",
              "      <td>22.362385</td>\n",
              "    </tr>\n",
              "    <tr>\n",
              "      <th>Kenya</th>\n",
              "      <td>237983.514423</td>\n",
              "      <td>22.153846</td>\n",
              "    </tr>\n",
              "    <tr>\n",
              "      <th>Nigeria</th>\n",
              "      <td>244944.191589</td>\n",
              "      <td>21.429907</td>\n",
              "    </tr>\n",
              "    <tr>\n",
              "      <th>Rwanda</th>\n",
              "      <td>260418.851064</td>\n",
              "      <td>22.489362</td>\n",
              "    </tr>\n",
              "    <tr>\n",
              "      <th>South Africa</th>\n",
              "      <td>255083.063953</td>\n",
              "      <td>24.220930</td>\n",
              "    </tr>\n",
              "  </tbody>\n",
              "</table>\n",
              "</div>"
            ],
            "text/plain": [
              "              annual_revenue  growth_last_yr\n",
              "country                                     \n",
              "Ghana          238852.357798       22.362385\n",
              "Kenya          237983.514423       22.153846\n",
              "Nigeria        244944.191589       21.429907\n",
              "Rwanda         260418.851064       22.489362\n",
              "South Africa   255083.063953       24.220930"
            ]
          },
          "metadata": {},
          "output_type": "display_data"
        },
        {
          "name": "stdout",
          "output_type": "stream",
          "text": [
            "\n",
            "Mean annual revenue and growth by sector:\n"
          ]
        },
        {
          "data": {
            "text/html": [
              "<div>\n",
              "<style scoped>\n",
              "    .dataframe tbody tr th:only-of-type {\n",
              "        vertical-align: middle;\n",
              "    }\n",
              "\n",
              "    .dataframe tbody tr th {\n",
              "        vertical-align: top;\n",
              "    }\n",
              "\n",
              "    .dataframe thead th {\n",
              "        text-align: right;\n",
              "    }\n",
              "</style>\n",
              "<table border=\"1\" class=\"dataframe\">\n",
              "  <thead>\n",
              "    <tr style=\"text-align: right;\">\n",
              "      <th></th>\n",
              "      <th>annual_revenue</th>\n",
              "      <th>growth_last_yr</th>\n",
              "    </tr>\n",
              "    <tr>\n",
              "      <th>sector</th>\n",
              "      <th></th>\n",
              "      <th></th>\n",
              "    </tr>\n",
              "  </thead>\n",
              "  <tbody>\n",
              "    <tr>\n",
              "      <th>Education</th>\n",
              "      <td>235799.930233</td>\n",
              "      <td>22.122093</td>\n",
              "    </tr>\n",
              "    <tr>\n",
              "      <th>Farming</th>\n",
              "      <td>256430.875776</td>\n",
              "      <td>20.583851</td>\n",
              "    </tr>\n",
              "    <tr>\n",
              "      <th>Finance</th>\n",
              "      <td>237618.711538</td>\n",
              "      <td>24.698718</td>\n",
              "    </tr>\n",
              "    <tr>\n",
              "      <th>Logistics</th>\n",
              "      <td>245826.901734</td>\n",
              "      <td>22.456647</td>\n",
              "    </tr>\n",
              "    <tr>\n",
              "      <th>Manufacturing</th>\n",
              "      <td>254543.060606</td>\n",
              "      <td>20.478788</td>\n",
              "    </tr>\n",
              "    <tr>\n",
              "      <th>Retail</th>\n",
              "      <td>250764.947977</td>\n",
              "      <td>24.433526</td>\n",
              "    </tr>\n",
              "  </tbody>\n",
              "</table>\n",
              "</div>"
            ],
            "text/plain": [
              "               annual_revenue  growth_last_yr\n",
              "sector                                       \n",
              "Education       235799.930233       22.122093\n",
              "Farming         256430.875776       20.583851\n",
              "Finance         237618.711538       24.698718\n",
              "Logistics       245826.901734       22.456647\n",
              "Manufacturing   254543.060606       20.478788\n",
              "Retail          250764.947977       24.433526"
            ]
          },
          "metadata": {},
          "output_type": "display_data"
        },
        {
          "name": "stdout",
          "output_type": "stream",
          "text": [
            "\n",
            "Mean annual revenue and growth by tech adoption level:\n"
          ]
        },
        {
          "data": {
            "text/html": [
              "<div>\n",
              "<style scoped>\n",
              "    .dataframe tbody tr th:only-of-type {\n",
              "        vertical-align: middle;\n",
              "    }\n",
              "\n",
              "    .dataframe tbody tr th {\n",
              "        vertical-align: top;\n",
              "    }\n",
              "\n",
              "    .dataframe thead th {\n",
              "        text-align: right;\n",
              "    }\n",
              "</style>\n",
              "<table border=\"1\" class=\"dataframe\">\n",
              "  <thead>\n",
              "    <tr style=\"text-align: right;\">\n",
              "      <th></th>\n",
              "      <th>annual_revenue</th>\n",
              "      <th>growth_last_yr</th>\n",
              "    </tr>\n",
              "    <tr>\n",
              "      <th>tech_adoption_level</th>\n",
              "      <th></th>\n",
              "      <th></th>\n",
              "    </tr>\n",
              "  </thead>\n",
              "  <tbody>\n",
              "    <tr>\n",
              "      <th>High</th>\n",
              "      <td>248812.087977</td>\n",
              "      <td>23.249267</td>\n",
              "    </tr>\n",
              "    <tr>\n",
              "      <th>Low</th>\n",
              "      <td>245291.025000</td>\n",
              "      <td>22.384375</td>\n",
              "    </tr>\n",
              "    <tr>\n",
              "      <th>Medium</th>\n",
              "      <td>246263.784661</td>\n",
              "      <td>21.746313</td>\n",
              "    </tr>\n",
              "  </tbody>\n",
              "</table>\n",
              "</div>"
            ],
            "text/plain": [
              "                     annual_revenue  growth_last_yr\n",
              "tech_adoption_level                                \n",
              "High                  248812.087977       23.249267\n",
              "Low                   245291.025000       22.384375\n",
              "Medium                246263.784661       21.746313"
            ]
          },
          "metadata": {},
          "output_type": "display_data"
        },
        {
          "name": "stdout",
          "output_type": "stream",
          "text": [
            "\n",
            "Correlation matrix for numerical columns:\n"
          ]
        },
        {
          "data": {
            "text/html": [
              "<div>\n",
              "<style scoped>\n",
              "    .dataframe tbody tr th:only-of-type {\n",
              "        vertical-align: middle;\n",
              "    }\n",
              "\n",
              "    .dataframe tbody tr th {\n",
              "        vertical-align: top;\n",
              "    }\n",
              "\n",
              "    .dataframe thead th {\n",
              "        text-align: right;\n",
              "    }\n",
              "</style>\n",
              "<table border=\"1\" class=\"dataframe\">\n",
              "  <thead>\n",
              "    <tr style=\"text-align: right;\">\n",
              "      <th></th>\n",
              "      <th>employees</th>\n",
              "      <th>annual_revenue</th>\n",
              "      <th>growth_last_yr</th>\n",
              "    </tr>\n",
              "  </thead>\n",
              "  <tbody>\n",
              "    <tr>\n",
              "      <th>employees</th>\n",
              "      <td>1.000000</td>\n",
              "      <td>-0.043978</td>\n",
              "      <td>0.013428</td>\n",
              "    </tr>\n",
              "    <tr>\n",
              "      <th>annual_revenue</th>\n",
              "      <td>-0.043978</td>\n",
              "      <td>1.000000</td>\n",
              "      <td>-0.048764</td>\n",
              "    </tr>\n",
              "    <tr>\n",
              "      <th>growth_last_yr</th>\n",
              "      <td>0.013428</td>\n",
              "      <td>-0.048764</td>\n",
              "      <td>1.000000</td>\n",
              "    </tr>\n",
              "  </tbody>\n",
              "</table>\n",
              "</div>"
            ],
            "text/plain": [
              "                employees  annual_revenue  growth_last_yr\n",
              "employees        1.000000       -0.043978        0.013428\n",
              "annual_revenue  -0.043978        1.000000       -0.048764\n",
              "growth_last_yr   0.013428       -0.048764        1.000000"
            ]
          },
          "metadata": {},
          "output_type": "display_data"
        }
      ],
      "source": [
        "country_revenue_growth = df.groupby('country')[['annual_revenue', 'growth_last_yr']].mean()\n",
        "print(\"Mean annual revenue and growth by country:\")\n",
        "display(country_revenue_growth)\n",
        "\n",
        "sector_revenue_growth = df.groupby('sector')[['annual_revenue', 'growth_last_yr']].mean()\n",
        "print(\"\\nMean annual revenue and growth by sector:\")\n",
        "display(sector_revenue_growth)\n",
        "\n",
        "tech_adoption_revenue_growth = df.groupby('tech_adoption_level')[['annual_revenue', 'growth_last_yr']].mean()\n",
        "print(\"\\nMean annual revenue and growth by tech adoption level:\")\n",
        "display(tech_adoption_revenue_growth)\n",
        "\n",
        "correlation_matrix = df[['employees', 'annual_revenue', 'growth_last_yr']].corr()\n",
        "print(\"\\nCorrelation matrix for numerical columns:\")\n",
        "display(correlation_matrix)"
      ]
    },
    {
      "cell_type": "code",
      "execution_count": 37,
      "metadata": {
        "colab": {
          "base_uri": "https://localhost:8080/",
          "height": 921
        },
        "id": "7d41709b",
        "outputId": "b1b03858-25ee-406d-a5d7-56ac98c7b81f"
      },
      "outputs": [
        {
          "name": "stdout",
          "output_type": "stream",
          "text": [
            "Analysis by Tech Adoption Level and Country:\n"
          ]
        },
        {
          "data": {
            "text/html": [
              "<div>\n",
              "<style scoped>\n",
              "    .dataframe tbody tr th:only-of-type {\n",
              "        vertical-align: middle;\n",
              "    }\n",
              "\n",
              "    .dataframe tbody tr th {\n",
              "        vertical-align: top;\n",
              "    }\n",
              "\n",
              "    .dataframe thead th {\n",
              "        text-align: right;\n",
              "    }\n",
              "</style>\n",
              "<table border=\"1\" class=\"dataframe\">\n",
              "  <thead>\n",
              "    <tr style=\"text-align: right;\">\n",
              "      <th></th>\n",
              "      <th></th>\n",
              "      <th>annual_revenue</th>\n",
              "      <th>growth_last_yr</th>\n",
              "    </tr>\n",
              "    <tr>\n",
              "      <th>tech_adoption_level</th>\n",
              "      <th>country</th>\n",
              "      <th></th>\n",
              "      <th></th>\n",
              "    </tr>\n",
              "  </thead>\n",
              "  <tbody>\n",
              "    <tr>\n",
              "      <th rowspan=\"5\" valign=\"top\">High</th>\n",
              "      <th>Ghana</th>\n",
              "      <td>238663.493827</td>\n",
              "      <td>23.259259</td>\n",
              "    </tr>\n",
              "    <tr>\n",
              "      <th>Kenya</th>\n",
              "      <td>221416.462687</td>\n",
              "      <td>23.910448</td>\n",
              "    </tr>\n",
              "    <tr>\n",
              "      <th>Nigeria</th>\n",
              "      <td>259314.088235</td>\n",
              "      <td>20.147059</td>\n",
              "    </tr>\n",
              "    <tr>\n",
              "      <th>Rwanda</th>\n",
              "      <td>279098.307692</td>\n",
              "      <td>24.123077</td>\n",
              "    </tr>\n",
              "    <tr>\n",
              "      <th>South Africa</th>\n",
              "      <td>248392.133333</td>\n",
              "      <td>25.066667</td>\n",
              "    </tr>\n",
              "    <tr>\n",
              "      <th rowspan=\"5\" valign=\"top\">Low</th>\n",
              "      <th>Ghana</th>\n",
              "      <td>242488.279412</td>\n",
              "      <td>21.720588</td>\n",
              "    </tr>\n",
              "    <tr>\n",
              "      <th>Kenya</th>\n",
              "      <td>247000.041096</td>\n",
              "      <td>20.849315</td>\n",
              "    </tr>\n",
              "    <tr>\n",
              "      <th>Nigeria</th>\n",
              "      <td>230750.038961</td>\n",
              "      <td>22.662338</td>\n",
              "    </tr>\n",
              "    <tr>\n",
              "      <th>Rwanda</th>\n",
              "      <td>262381.120000</td>\n",
              "      <td>25.420000</td>\n",
              "    </tr>\n",
              "    <tr>\n",
              "      <th>South Africa</th>\n",
              "      <td>251656.019231</td>\n",
              "      <td>22.076923</td>\n",
              "    </tr>\n",
              "    <tr>\n",
              "      <th rowspan=\"5\" valign=\"top\">Medium</th>\n",
              "      <th>Ghana</th>\n",
              "      <td>235490.840580</td>\n",
              "      <td>21.942029</td>\n",
              "    </tr>\n",
              "    <tr>\n",
              "      <th>Kenya</th>\n",
              "      <td>244627.426471</td>\n",
              "      <td>21.823529</td>\n",
              "    </tr>\n",
              "    <tr>\n",
              "      <th>Nigeria</th>\n",
              "      <td>246622.405797</td>\n",
              "      <td>21.318841</td>\n",
              "    </tr>\n",
              "    <tr>\n",
              "      <th>Rwanda</th>\n",
              "      <td>242442.438356</td>\n",
              "      <td>19.027397</td>\n",
              "    </tr>\n",
              "    <tr>\n",
              "      <th>South Africa</th>\n",
              "      <td>264744.100000</td>\n",
              "      <td>25.233333</td>\n",
              "    </tr>\n",
              "  </tbody>\n",
              "</table>\n",
              "</div>"
            ],
            "text/plain": [
              "                                  annual_revenue  growth_last_yr\n",
              "tech_adoption_level country                                     \n",
              "High                Ghana          238663.493827       23.259259\n",
              "                    Kenya          221416.462687       23.910448\n",
              "                    Nigeria        259314.088235       20.147059\n",
              "                    Rwanda         279098.307692       24.123077\n",
              "                    South Africa   248392.133333       25.066667\n",
              "Low                 Ghana          242488.279412       21.720588\n",
              "                    Kenya          247000.041096       20.849315\n",
              "                    Nigeria        230750.038961       22.662338\n",
              "                    Rwanda         262381.120000       25.420000\n",
              "                    South Africa   251656.019231       22.076923\n",
              "Medium              Ghana          235490.840580       21.942029\n",
              "                    Kenya          244627.426471       21.823529\n",
              "                    Nigeria        246622.405797       21.318841\n",
              "                    Rwanda         242442.438356       19.027397\n",
              "                    South Africa   264744.100000       25.233333"
            ]
          },
          "metadata": {},
          "output_type": "display_data"
        },
        {
          "name": "stdout",
          "output_type": "stream",
          "text": [
            "\n",
            "Analysis of Growth by Funding Status:\n"
          ]
        },
        {
          "data": {
            "text/html": [
              "<div>\n",
              "<style scoped>\n",
              "    .dataframe tbody tr th:only-of-type {\n",
              "        vertical-align: middle;\n",
              "    }\n",
              "\n",
              "    .dataframe tbody tr th {\n",
              "        vertical-align: top;\n",
              "    }\n",
              "\n",
              "    .dataframe thead th {\n",
              "        text-align: right;\n",
              "    }\n",
              "</style>\n",
              "<table border=\"1\" class=\"dataframe\">\n",
              "  <thead>\n",
              "    <tr style=\"text-align: right;\">\n",
              "      <th></th>\n",
              "      <th>funding_status</th>\n",
              "      <th>growth_last_yr</th>\n",
              "    </tr>\n",
              "  </thead>\n",
              "  <tbody>\n",
              "    <tr>\n",
              "      <th>0</th>\n",
              "      <td>Bootstrapped</td>\n",
              "      <td>23.702128</td>\n",
              "    </tr>\n",
              "    <tr>\n",
              "      <th>1</th>\n",
              "      <td>Seed</td>\n",
              "      <td>21.785714</td>\n",
              "    </tr>\n",
              "    <tr>\n",
              "      <th>2</th>\n",
              "      <td>Series A</td>\n",
              "      <td>22.814672</td>\n",
              "    </tr>\n",
              "    <tr>\n",
              "      <th>3</th>\n",
              "      <td>Unknown</td>\n",
              "      <td>21.629921</td>\n",
              "    </tr>\n",
              "  </tbody>\n",
              "</table>\n",
              "</div>"
            ],
            "text/plain": [
              "  funding_status  growth_last_yr\n",
              "0   Bootstrapped       23.702128\n",
              "1           Seed       21.785714\n",
              "2       Series A       22.814672\n",
              "3        Unknown       21.629921"
            ]
          },
          "metadata": {},
          "output_type": "display_data"
        },
        {
          "name": "stdout",
          "output_type": "stream",
          "text": [
            "\n",
            "Analysis of Growth by Remote Work Policy:\n"
          ]
        },
        {
          "data": {
            "text/html": [
              "<div>\n",
              "<style scoped>\n",
              "    .dataframe tbody tr th:only-of-type {\n",
              "        vertical-align: middle;\n",
              "    }\n",
              "\n",
              "    .dataframe tbody tr th {\n",
              "        vertical-align: top;\n",
              "    }\n",
              "\n",
              "    .dataframe thead th {\n",
              "        text-align: right;\n",
              "    }\n",
              "</style>\n",
              "<table border=\"1\" class=\"dataframe\">\n",
              "  <thead>\n",
              "    <tr style=\"text-align: right;\">\n",
              "      <th></th>\n",
              "      <th>remote_work_policy</th>\n",
              "      <th>growth_last_yr</th>\n",
              "    </tr>\n",
              "  </thead>\n",
              "  <tbody>\n",
              "    <tr>\n",
              "      <th>0</th>\n",
              "      <td>Full</td>\n",
              "      <td>22.390313</td>\n",
              "    </tr>\n",
              "    <tr>\n",
              "      <th>1</th>\n",
              "      <td>No Policy</td>\n",
              "      <td>21.826625</td>\n",
              "    </tr>\n",
              "    <tr>\n",
              "      <th>2</th>\n",
              "      <td>Partial</td>\n",
              "      <td>23.171779</td>\n",
              "    </tr>\n",
              "  </tbody>\n",
              "</table>\n",
              "</div>"
            ],
            "text/plain": [
              "  remote_work_policy  growth_last_yr\n",
              "0               Full       22.390313\n",
              "1          No Policy       21.826625\n",
              "2            Partial       23.171779"
            ]
          },
          "metadata": {},
          "output_type": "display_data"
        }
      ],
      "source": [
        "tech_country_analysis = df.groupby(['tech_adoption_level', 'country'])[['annual_revenue', 'growth_last_yr']].mean()\n",
        "funding_growth = df.groupby('funding_status')['growth_last_yr'].mean().reset_index()\n",
        "remote_work_growth = df.groupby('remote_work_policy')['growth_last_yr'].mean().reset_index()\n",
        "\n",
        "print(\"Analysis by Tech Adoption Level and Country:\")\n",
        "display(tech_country_analysis)\n",
        "\n",
        "print(\"\\nAnalysis of Growth by Funding Status:\")\n",
        "display(funding_growth)\n",
        "\n",
        "print(\"\\nAnalysis of Growth by Remote Work Policy:\")\n",
        "display(remote_work_growth)"
      ]
    },
    {
      "cell_type": "code",
      "execution_count": 38,
      "metadata": {
        "colab": {
          "base_uri": "https://localhost:8080/",
          "height": 574
        },
        "id": "wLNFOX6MMzcX",
        "outputId": "b5041f1f-e4df-404f-9dbc-9913a410133e"
      },
      "outputs": [],
      "source": [
        "# mean annual revenue and growth by country\n",
        "country_revenue_growth[['annual_revenue', 'growth_last_yr']].plot(kind='bar', figsize=(12, 6))\n",
        "plt.title('Mean Annual Revenue and Growth by Country')\n",
        "plt.xlabel('Country')\n",
        "plt.ylabel('Amount')\n",
        "plt.xticks(rotation=45, ha='right')\n",
        "plt.tight_layout()\n",
        "save_path = REPORTS_DIR / f\"Mean_Annual_Revenue_and_Growth_by_Country.png\"\n",
        "plt.savefig(save_path, dpi=300, bbox_inches='tight')\n",
        "plt.close() \n",
        "plt.show() \n",
        "    \n",
        " "
      ]
    },
    {
      "cell_type": "code",
      "execution_count": 39,
      "metadata": {
        "colab": {
          "base_uri": "https://localhost:8080/",
          "height": 574
        },
        "id": "3W1FrZnzMkFa",
        "outputId": "ab2084c1-53ea-4954-8621-4eeed0625351"
      },
      "outputs": [],
      "source": [
        "# mean annual revenue and growth by sector\n",
        "sector_revenue_growth[['annual_revenue', 'growth_last_yr']].plot(kind='bar', figsize=(12, 6))\n",
        "plt.title('Mean Annual Revenue and Growth by Sector')\n",
        "plt.xlabel('Sector')\n",
        "plt.ylabel('Amount')\n",
        "plt.xticks(rotation=45, ha='right')\n",
        "plt.tight_layout()\n",
        "save_path = REPORTS_DIR / f\"Mean_annual_Revenue_and_Growth_by_Sector.png\"\n",
        "plt.savefig(save_path, dpi=300, bbox_inches='tight')\n",
        "plt.close()  \n",
        "    \n",
        "plt.show()"
      ]
    },
    {
      "cell_type": "code",
      "execution_count": 40,
      "metadata": {
        "colab": {
          "base_uri": "https://localhost:8080/",
          "height": 607
        },
        "id": "GMq9cj5EMooq",
        "outputId": "24b4c33e-7032-43c8-dbba-864226199678"
      },
      "outputs": [],
      "source": [
        "# mean annual revenue and growth by tech adoption level\n",
        "tech_adoption_revenue_growth[['annual_revenue', 'growth_last_yr']].plot(kind='bar', figsize=(10, 6))\n",
        "plt.title('Mean Annual Revenue and Growth by Tech Adoption Level')\n",
        "plt.xlabel('Tech Adoption Level')\n",
        "plt.ylabel('Amount')\n",
        "plt.xticks(rotation=0)\n",
        "plt.tight_layout()\n",
        "save_path = REPORTS_DIR / f\"Mean_Annual_Revenue_and_Growth_by_Tech_Adoption_Level.png\"\n",
        "plt.savefig(save_path, dpi=300, bbox_inches='tight')\n",
        "plt.close()  \n",
        "    \n",
        "plt.show()"
      ]
    },
    {
      "cell_type": "code",
      "execution_count": 41,
      "metadata": {
        "colab": {
          "base_uri": "https://localhost:8080/",
          "height": 607
        },
        "id": "Qc6BoRssMscK",
        "outputId": "ec595ab8-40d4-4781-d5e3-b2266e1a3383"
      },
      "outputs": [],
      "source": [
        "# correlation matrix\n",
        "plt.figure(figsize=(8, 6))\n",
        "sns.heatmap(correlation_matrix, annot=True, cmap='coolwarm', fmt=\".2f\")\n",
        "plt.title('Correlation Matrix of Numerical Columns')\n",
        "plt.tight_layout()\n",
        "save_path = REPORTS_DIR / f\"Correlation_Matrix_of_Numerical_Columns.png\"\n",
        "plt.savefig(save_path, dpi=300, bbox_inches='tight')\n",
        "plt.close()  \n",
        "    \n",
        "plt.show()"
      ]
    },
    {
      "cell_type": "code",
      "execution_count": 42,
      "metadata": {
        "colab": {
          "base_uri": "https://localhost:8080/",
          "height": 1000
        },
        "id": "01c7e589",
        "outputId": "c7a83256-8d7b-431d-de40-76389bd87a6d"
      },
      "outputs": [
        {
          "data": {
            "image/png": "[encoded data removed]",
            "text/plain": [
              "<Figure size 1200x600 with 1 Axes>"
            ]
          },
          "metadata": {},
          "output_type": "display_data"
        },
        {
          "name": "stdout",
          "output_type": "stream",
          "text": [
            "Saved: C:\\Users\\USER\\Desktop\\Inua360-The-Kenyan-SME-AI-Agent\\reports\\figures\\Mean_Growth_by_Funding_Status.png\n"
          ]
        },
        {
          "data": {
            "image/png": "[encoded data removed]",
            "text/plain": [
              "<Figure size 640x480 with 1 Axes>"
            ]
          },
          "metadata": {},
          "output_type": "display_data"
        },
        {
          "name": "stdout",
          "output_type": "stream",
          "text": [
            "Saved: C:\\Users\\USER\\Desktop\\Inua360-The-Kenyan-SME-AI-Agent\\reports\\figures\\mean_growth_by_funding_and_remote_policy.png\n"
          ]
        },
        {
          "data": {
            "image/png": "[encoded data removed]",
            "text/plain": [
              "<Figure size 1500x700 with 1 Axes>"
            ]
          },
          "metadata": {},
          "output_type": "display_data"
        },
        {
          "name": "stdout",
          "output_type": "stream",
          "text": [
            "Saved: C:\\Users\\USER\\Desktop\\Inua360-The-Kenyan-SME-AI-Agent\\reports\\figures\\mean_annual_revenue_by_tech_adoption_and_country.png\n"
          ]
        },
        {
          "data": {
            "image/png": "[encoded data removed]",
            "text/plain": [
              "<Figure size 1500x700 with 1 Axes>"
            ]
          },
          "metadata": {},
          "output_type": "display_data"
        },
        {
          "name": "stdout",
          "output_type": "stream",
          "text": [
            "Saved: C:\\Users\\USER\\Desktop\\Inua360-The-Kenyan-SME-AI-Agent\\reports\\figures\\mean_growth_last_year_by_tech_adoption_and_country.png\n"
          ]
        }
      ],
      "source": [
        "import matplotlib.pyplot as plt\n",
        "import seaborn as sns\n",
        "from pathlib import Path\n",
        "\n",
        "REPORTS_DIR = Path(r\"C:\\Users\\USER\\Desktop\\Inua360-The-Kenyan-SME-AI-Agent\\reports\\figures\")\n",
        "REPORTS_DIR.mkdir(parents=True, exist_ok=True)\n",
        "\n",
        "plt.figure(figsize=(12, 6))\n",
        "\n",
        "plt.subplot(1, 2, 1)\n",
        "sns.barplot(x='funding_status', y='growth_last_yr', data=funding_growth)\n",
        "plt.title('Mean Growth by Funding Status')\n",
        "plt.xlabel('Funding Status')\n",
        "plt.ylabel('Mean Growth Last Year')\n",
        "plt.xticks(rotation=45, ha='right')\n",
        "\n",
        "save_path = REPORTS_DIR / \"Mean_Growth_by_Funding_Status.png\"\n",
        "plt.savefig(save_path, dpi=300, bbox_inches='tight')\n",
        "plt.show()\n",
        "print(f\"Saved: {save_path}\")\n",
        "\n",
        "plt.subplot(1, 2, 2)\n",
        "sns.barplot(x='remote_work_policy', y='growth_last_yr', data=remote_work_growth)\n",
        "plt.title('Mean Growth by Remote Work Policy')\n",
        "plt.xlabel('Remote Work Policy')\n",
        "plt.ylabel('Mean Growth Last Year')\n",
        "plt.xticks(rotation=45, ha='right')\n",
        "\n",
        "plt.tight_layout()\n",
        "\n",
        "save_path = REPORTS_DIR / \"mean_growth_by_funding_and_remote_policy.png\"\n",
        "plt.savefig(save_path, dpi=300, bbox_inches='tight')\n",
        "plt.show()\n",
        "print(f\"Saved: {save_path}\")\n",
        "\n",
        "ax = tech_country_analysis['annual_revenue'].unstack().plot(kind='bar', figsize=(15, 7))\n",
        "plt.title('Mean Annual Revenue by Tech Adoption Level and Country')\n",
        "plt.xlabel('Country')\n",
        "plt.ylabel('Mean Annual Revenue')\n",
        "plt.xticks(rotation=45, ha='right')\n",
        "plt.legend(title='Tech Adoption Level')\n",
        "plt.tight_layout()\n",
        " \n",
        "save_path = REPORTS_DIR / \"mean_annual_revenue_by_tech_adoption_and_country.png\"\n",
        "plt.savefig(save_path, dpi=300, bbox_inches='tight')\n",
        "plt.show()\n",
        "print(f\"Saved: {save_path}\")\n",
        "\n",
        "ax = tech_country_analysis['growth_last_yr'].unstack().plot(kind='bar', figsize=(15, 7))\n",
        "plt.title('Mean Growth Last Year by Tech Adoption Level and Country')\n",
        "plt.xlabel('Country')\n",
        "plt.ylabel('Mean Growth Last Year')\n",
        "plt.xticks(rotation=45, ha='right')\n",
        "plt.legend(title='Tech Adoption Level')\n",
        "plt.tight_layout()\n",
        "\n",
        " \n",
        "save_path = REPORTS_DIR / \"mean_growth_last_year_by_tech_adoption_and_country.png\"\n",
        "plt.savefig(save_path, dpi=300, bbox_inches='tight')\n",
        "plt.show()\n",
        "print(f\"Saved: {save_path}\")\n"
      ]
    },
    {
      "cell_type": "code",
      "execution_count": 43,
      "metadata": {},
      "outputs": [
        {
          "data": {
            "text/plain": [
              "company_id             0\n",
              "country                0\n",
              "sector                 0\n",
              "employees              0\n",
              "annual_revenue         0\n",
              "tech_adoption_level    0\n",
              "main_challenges        0\n",
              "digital_tools_used     0\n",
              "growth_last_yr         0\n",
              "funding_status         0\n",
              "female_owned           0\n",
              "remote_work_policy     0\n",
              "dtype: int64"
            ]
          },
          "execution_count": 43,
          "metadata": {},
          "output_type": "execute_result"
        }
      ],
      "source": [
        "df.isnull().sum()"
      ]
    },
    {
      "cell_type": "code",
      "execution_count": 44,
      "metadata": {},
      "outputs": [
        {
          "name": "stdout",
          "output_type": "stream",
          "text": [
            "File saved at: C:\\Users\\USER\\Desktop\\Inua360-The-Kenyan-SME-AI-Agent\\data\\interim\\Clean_data.csv\n"
          ]
        }
      ],
      "source": [
        "from pathlib import Path\n",
        "\n",
        "SAVE_PATH = Path(r\"C:\\Users\\USER\\Desktop\\Inua360-The-Kenyan-SME-AI-Agent\\data\\interim\")\n",
        "SAVE_PATH.mkdir(parents=True, exist_ok=True)\n",
        "\n",
        "file_path = SAVE_PATH / \"Clean_data.csv\"\n",
        "df.to_csv(file_path, index=False)\n",
        "\n",
        "print(f\"File saved at: {file_path}\")\n"
      ]
    },
    {
      "cell_type": "code",
      "execution_count": null,
      "metadata": {},
      "outputs": [],
      "source": []
    }
  ],
  "metadata": {
    "colab": {
      "authorship_tag": "ABX9TyOSy2tIU4sLHTHWBxIz4tkF",
      "include_colab_link": true,
      "provenance": []
    },
    "kernelspec": {
      "display_name": "Python 3",
      "name": "python3"
    },
    "language_info": {
      "codemirror_mode": {
        "name": "ipython",
        "version": 3
      },
      "file_extension": ".py",
      "mimetype": "text/x-python",
      "name": "python",
      "nbconvert_exporter": "python",
      "pygments_lexer": "ipython3",
      "version": "3.10.11"
    }
  },
  "nbformat": 4,
  "nbformat_minor": 0
}
