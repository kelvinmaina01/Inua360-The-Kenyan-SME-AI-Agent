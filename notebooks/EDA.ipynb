{
  "cells": [
    {
      "cell_type": "markdown",
      "metadata": {
        "colab_type": "text",
        "id": "view-in-github"
      },
      "source": [
        "<a href=\"https://colab.research.google.com/github/kelvinmaina01/Inua360-The-Kenyan-SME-AI-Agent/blob/ml/EDA.ipynb\" target=\"_parent\"><img src=\"https://colab.research.google.com/assets/colab-badge.svg\" alt=\"Open In Colab\"/></a>"
      ]
    },
    {
      "cell_type": "code",
      "execution_count": 1,
      "metadata": {
        "id": "i5CUHr4D898c"
      },
      "outputs": [],
      "source": [
        "import sys\n",
        "from pathlib import Path\n",
        "import pandas as pd\n",
        "import numpy as np\n",
        "import matplotlib.pyplot as plt\n",
        "import seaborn as sns"
      ]
    },
    {
      "cell_type": "code",
      "execution_count": 2,
      "metadata": {},
      "outputs": [
        {
          "name": "stdout",
          "output_type": "stream",
          "text": [
            " Project root set to: c:\\Users\\USER\\Desktop\\Inua360-The-Kenyan-SME-AI-Agent\n",
            " Reports dir: c:\\Users\\USER\\Desktop\\Inua360-The-Kenyan-SME-AI-Agent\\reports\\figures\n",
            " Data dir: c:\\Users\\USER\\Desktop\\Inua360-The-Kenyan-SME-AI-Agent\\data\\external\n"
          ]
        }
      ],
      "source": [
        "\n",
        "PROJECT_ROOT = Path.cwd().parent\n",
        "\n",
        "# Folders inside project root\n",
        "REPORTS_DIR = PROJECT_ROOT / \"reports\" / \"figures\"\n",
        "DATA_DIR = PROJECT_ROOT / \"data\" / \"external\"\n",
        "\n",
        "# Create them if missing\n",
        "REPORTS_DIR.mkdir(parents=True, exist_ok=True)\n",
        "DATA_DIR.mkdir(parents=True, exist_ok=True)\n",
        "\n",
        "print(\" Project root set to:\", PROJECT_ROOT)\n",
        "print(\" Reports dir:\", REPORTS_DIR)\n",
        "print(\" Data dir:\", DATA_DIR)\n"
      ]
    },
    {
      "cell_type": "code",
      "execution_count": 3,
      "metadata": {
        "id": "-5UDJgUb9ic0"
      },
      "outputs": [],
      "source": [
        "df = pd.read_csv(\"../data/external/african_sme_dataset.csv\")"
      ]
    },
    {
      "cell_type": "code",
      "execution_count": 4,
      "metadata": {
        "colab": {
          "base_uri": "https://localhost:8080/",
          "height": 278
        },
        "id": "1mr9Zg0v_Y9W",
        "outputId": "33084699-c7f7-45db-fc79-9360e801bdb7"
      },
      "outputs": [
        {
          "data": {
            "text/html": [
              "<div>\n",
              "<style scoped>\n",
              "    .dataframe tbody tr th:only-of-type {\n",
              "        vertical-align: middle;\n",
              "    }\n",
              "\n",
              "    .dataframe tbody tr th {\n",
              "        vertical-align: top;\n",
              "    }\n",
              "\n",
              "    .dataframe thead th {\n",
              "        text-align: right;\n",
              "    }\n",
              "</style>\n",
              "<table border=\"1\" class=\"dataframe\">\n",
              "  <thead>\n",
              "    <tr style=\"text-align: right;\">\n",
              "      <th></th>\n",
              "      <th>company_id</th>\n",
              "      <th>country</th>\n",
              "      <th>sector</th>\n",
              "      <th>employees</th>\n",
              "      <th>annual_revenue</th>\n",
              "      <th>tech_adoption_level</th>\n",
              "      <th>main_challenges</th>\n",
              "      <th>digital_tools_used</th>\n",
              "      <th>growth_last_yr</th>\n",
              "      <th>funding_status</th>\n",
              "      <th>female_owned</th>\n",
              "      <th>remote_work_policy</th>\n",
              "    </tr>\n",
              "  </thead>\n",
              "  <tbody>\n",
              "    <tr>\n",
              "      <th>0</th>\n",
              "      <td>440</td>\n",
              "      <td>Rwanda</td>\n",
              "      <td>Education</td>\n",
              "      <td>32</td>\n",
              "      <td>1087</td>\n",
              "      <td>Medium</td>\n",
              "      <td>Regulation, Awareness</td>\n",
              "      <td>Website, Mobile money, E-commerce</td>\n",
              "      <td>18</td>\n",
              "      <td>Unknown</td>\n",
              "      <td>Yes</td>\n",
              "      <td>Hybrid / Partial</td>\n",
              "    </tr>\n",
              "    <tr>\n",
              "      <th>1</th>\n",
              "      <td>47</td>\n",
              "      <td>Rwanda</td>\n",
              "      <td>Education</td>\n",
              "      <td>146</td>\n",
              "      <td>7037</td>\n",
              "      <td>High</td>\n",
              "      <td>Skills, Awareness</td>\n",
              "      <td>POS, WhatsApp</td>\n",
              "      <td>31</td>\n",
              "      <td>Seed</td>\n",
              "      <td>Yes</td>\n",
              "      <td>No remote policy</td>\n",
              "    </tr>\n",
              "    <tr>\n",
              "      <th>2</th>\n",
              "      <td>596</td>\n",
              "      <td>South Africa</td>\n",
              "      <td>Logistics</td>\n",
              "      <td>33</td>\n",
              "      <td>2000</td>\n",
              "      <td>Medium</td>\n",
              "      <td>Skills, Internet</td>\n",
              "      <td>ERP, WhatsApp</td>\n",
              "      <td>14</td>\n",
              "      <td>Seed</td>\n",
              "      <td>No</td>\n",
              "      <td>Has remote work policy</td>\n",
              "    </tr>\n",
              "    <tr>\n",
              "      <th>3</th>\n",
              "      <td>955</td>\n",
              "      <td>Rwanda</td>\n",
              "      <td>Retail</td>\n",
              "      <td>210</td>\n",
              "      <td>11678</td>\n",
              "      <td>Medium</td>\n",
              "      <td>Regulation</td>\n",
              "      <td>Mobile money, ERP</td>\n",
              "      <td>13</td>\n",
              "      <td>Seed</td>\n",
              "      <td>No</td>\n",
              "      <td>Hybrid / Partial</td>\n",
              "    </tr>\n",
              "    <tr>\n",
              "      <th>4</th>\n",
              "      <td>782</td>\n",
              "      <td>Kenya</td>\n",
              "      <td>Finance</td>\n",
              "      <td>183</td>\n",
              "      <td>25186</td>\n",
              "      <td>High</td>\n",
              "      <td>Internet, Cost</td>\n",
              "      <td>POS, CRM</td>\n",
              "      <td>34</td>\n",
              "      <td>Series A</td>\n",
              "      <td>Yes</td>\n",
              "      <td>Has remote work policy</td>\n",
              "    </tr>\n",
              "  </tbody>\n",
              "</table>\n",
              "</div>"
            ],
            "text/plain": [
              "   company_id       country     sector  employees  annual_revenue  \\\n",
              "0         440        Rwanda  Education         32            1087   \n",
              "1          47        Rwanda  Education        146            7037   \n",
              "2         596  South Africa  Logistics         33            2000   \n",
              "3         955        Rwanda     Retail        210           11678   \n",
              "4         782         Kenya    Finance        183           25186   \n",
              "\n",
              "  tech_adoption_level        main_challenges  \\\n",
              "0              Medium  Regulation, Awareness   \n",
              "1                High      Skills, Awareness   \n",
              "2              Medium       Skills, Internet   \n",
              "3              Medium             Regulation   \n",
              "4                High         Internet, Cost   \n",
              "\n",
              "                  digital_tools_used  growth_last_yr funding_status  \\\n",
              "0  Website, Mobile money, E-commerce              18        Unknown   \n",
              "1                      POS, WhatsApp              31           Seed   \n",
              "2                      ERP, WhatsApp              14           Seed   \n",
              "3                  Mobile money, ERP              13           Seed   \n",
              "4                           POS, CRM              34       Series A   \n",
              "\n",
              "  female_owned      remote_work_policy  \n",
              "0          Yes        Hybrid / Partial  \n",
              "1          Yes        No remote policy  \n",
              "2           No  Has remote work policy  \n",
              "3           No        Hybrid / Partial  \n",
              "4          Yes  Has remote work policy  "
            ]
          },
          "execution_count": 4,
          "metadata": {},
          "output_type": "execute_result"
        }
      ],
      "source": [
        "df.head()"
      ]
    },
    {
      "cell_type": "code",
      "execution_count": 5,
      "metadata": {
        "colab": {
          "base_uri": "https://localhost:8080/"
        },
        "id": "w8zneEZI_muL",
        "outputId": "a3257bdf-1f07-4569-d168-47ad5c1d4998"
      },
      "outputs": [
        {
          "data": {
            "text/plain": [
              "(10000, 12)"
            ]
          },
          "execution_count": 5,
          "metadata": {},
          "output_type": "execute_result"
        }
      ],
      "source": [
        "df.shape"
      ]
    },
    {
      "cell_type": "code",
      "execution_count": 6,
      "metadata": {
        "colab": {
          "base_uri": "https://localhost:8080/",
          "height": 460
        },
        "id": "4izXZK4v_vya",
        "outputId": "ad5f4645-2672-4c69-a2dd-806083c47c54"
      },
      "outputs": [
        {
          "data": {
            "text/plain": [
              "company_id             0\n",
              "country                0\n",
              "sector                 0\n",
              "employees              0\n",
              "annual_revenue         0\n",
              "tech_adoption_level    0\n",
              "main_challenges        0\n",
              "digital_tools_used     0\n",
              "growth_last_yr         0\n",
              "funding_status         0\n",
              "female_owned           0\n",
              "remote_work_policy     0\n",
              "dtype: int64"
            ]
          },
          "execution_count": 6,
          "metadata": {},
          "output_type": "execute_result"
        }
      ],
      "source": [
        "df.isnull().sum()"
      ]
    },
    {
      "cell_type": "code",
      "execution_count": 7,
      "metadata": {
        "colab": {
          "base_uri": "https://localhost:8080/"
        },
        "id": "yLwH8bCr_79t",
        "outputId": "56e6b832-0f00-4aeb-81a2-72092b45985a"
      },
      "outputs": [
        {
          "name": "stdout",
          "output_type": "stream",
          "text": [
            "<class 'pandas.core.frame.DataFrame'>\n",
            "RangeIndex: 10000 entries, 0 to 9999\n",
            "Data columns (total 12 columns):\n",
            " #   Column               Non-Null Count  Dtype \n",
            "---  ------               --------------  ----- \n",
            " 0   company_id           10000 non-null  int64 \n",
            " 1   country              10000 non-null  object\n",
            " 2   sector               10000 non-null  object\n",
            " 3   employees            10000 non-null  int64 \n",
            " 4   annual_revenue       10000 non-null  int64 \n",
            " 5   tech_adoption_level  10000 non-null  object\n",
            " 6   main_challenges      10000 non-null  object\n",
            " 7   digital_tools_used   10000 non-null  object\n",
            " 8   growth_last_yr       10000 non-null  int64 \n",
            " 9   funding_status       10000 non-null  object\n",
            " 10  female_owned         10000 non-null  object\n",
            " 11  remote_work_policy   10000 non-null  object\n",
            "dtypes: int64(4), object(8)\n",
            "memory usage: 937.6+ KB\n"
          ]
        }
      ],
      "source": [
        "df.info()"
      ]
    },
    {
      "cell_type": "code",
      "execution_count": 8,
      "metadata": {
        "colab": {
          "base_uri": "https://localhost:8080/",
          "height": 300
        },
        "id": "Gm3VIYkuJTjs",
        "outputId": "f45b331a-e5b3-460c-f01c-330d4566a243"
      },
      "outputs": [
        {
          "data": {
            "text/html": [
              "<div>\n",
              "<style scoped>\n",
              "    .dataframe tbody tr th:only-of-type {\n",
              "        vertical-align: middle;\n",
              "    }\n",
              "\n",
              "    .dataframe tbody tr th {\n",
              "        vertical-align: top;\n",
              "    }\n",
              "\n",
              "    .dataframe thead th {\n",
              "        text-align: right;\n",
              "    }\n",
              "</style>\n",
              "<table border=\"1\" class=\"dataframe\">\n",
              "  <thead>\n",
              "    <tr style=\"text-align: right;\">\n",
              "      <th></th>\n",
              "      <th>company_id</th>\n",
              "      <th>employees</th>\n",
              "      <th>annual_revenue</th>\n",
              "      <th>growth_last_yr</th>\n",
              "    </tr>\n",
              "  </thead>\n",
              "  <tbody>\n",
              "    <tr>\n",
              "      <th>count</th>\n",
              "      <td>10000.000000</td>\n",
              "      <td>10000.000000</td>\n",
              "      <td>10000.000000</td>\n",
              "      <td>10000.000000</td>\n",
              "    </tr>\n",
              "    <tr>\n",
              "      <th>mean</th>\n",
              "      <td>500.500000</td>\n",
              "      <td>99.107500</td>\n",
              "      <td>5938.202100</td>\n",
              "      <td>16.620000</td>\n",
              "    </tr>\n",
              "    <tr>\n",
              "      <th>std</th>\n",
              "      <td>288.689425</td>\n",
              "      <td>105.557833</td>\n",
              "      <td>7201.744448</td>\n",
              "      <td>11.890304</td>\n",
              "    </tr>\n",
              "    <tr>\n",
              "      <th>min</th>\n",
              "      <td>1.000000</td>\n",
              "      <td>2.000000</td>\n",
              "      <td>1000.000000</td>\n",
              "      <td>-17.000000</td>\n",
              "    </tr>\n",
              "    <tr>\n",
              "      <th>25%</th>\n",
              "      <td>250.750000</td>\n",
              "      <td>35.000000</td>\n",
              "      <td>1824.750000</td>\n",
              "      <td>7.000000</td>\n",
              "    </tr>\n",
              "    <tr>\n",
              "      <th>50%</th>\n",
              "      <td>500.500000</td>\n",
              "      <td>66.000000</td>\n",
              "      <td>3600.500000</td>\n",
              "      <td>16.000000</td>\n",
              "    </tr>\n",
              "    <tr>\n",
              "      <th>75%</th>\n",
              "      <td>750.250000</td>\n",
              "      <td>123.000000</td>\n",
              "      <td>7182.500000</td>\n",
              "      <td>27.000000</td>\n",
              "    </tr>\n",
              "    <tr>\n",
              "      <th>max</th>\n",
              "      <td>1000.000000</td>\n",
              "      <td>1515.000000</td>\n",
              "      <td>128497.000000</td>\n",
              "      <td>54.000000</td>\n",
              "    </tr>\n",
              "  </tbody>\n",
              "</table>\n",
              "</div>"
            ],
            "text/plain": [
              "         company_id     employees  annual_revenue  growth_last_yr\n",
              "count  10000.000000  10000.000000    10000.000000    10000.000000\n",
              "mean     500.500000     99.107500     5938.202100       16.620000\n",
              "std      288.689425    105.557833     7201.744448       11.890304\n",
              "min        1.000000      2.000000     1000.000000      -17.000000\n",
              "25%      250.750000     35.000000     1824.750000        7.000000\n",
              "50%      500.500000     66.000000     3600.500000       16.000000\n",
              "75%      750.250000    123.000000     7182.500000       27.000000\n",
              "max     1000.000000   1515.000000   128497.000000       54.000000"
            ]
          },
          "execution_count": 8,
          "metadata": {},
          "output_type": "execute_result"
        }
      ],
      "source": [
        "df.describe()"
      ]
    },
    {
      "cell_type": "code",
      "execution_count": 9,
      "metadata": {
        "colab": {
          "base_uri": "https://localhost:8080/",
          "height": 272
        },
        "id": "bgYSSiWpJbWS",
        "outputId": "a126272a-a6ae-4001-9b54-8915c1fc6cfd"
      },
      "outputs": [
        {
          "data": {
            "text/plain": [
              "country\n",
              "Ghana           2218\n",
              "Nigeria         2194\n",
              "Kenya           2100\n",
              "Rwanda          1786\n",
              "South Africa    1702\n",
              "Name: count, dtype: int64"
            ]
          },
          "execution_count": 9,
          "metadata": {},
          "output_type": "execute_result"
        }
      ],
      "source": [
        "df['country'].value_counts()\n"
      ]
    },
    {
      "cell_type": "code",
      "execution_count": 10,
      "metadata": {
        "colab": {
          "base_uri": "https://localhost:8080/",
          "height": 272
        },
        "id": "yuL9Oza_Je38",
        "outputId": "77295f58-cc3f-4fc4-a623-fe204ff65fe5"
      },
      "outputs": [
        {
          "data": {
            "text/plain": [
              "country\n",
              "Ghana           5959.072588\n",
              "Kenya           5846.273333\n",
              "Nigeria         5892.623974\n",
              "Rwanda          5936.820829\n",
              "South Africa    6084.632785\n",
              "Name: annual_revenue, dtype: float64"
            ]
          },
          "execution_count": 10,
          "metadata": {},
          "output_type": "execute_result"
        }
      ],
      "source": [
        "df.groupby('country')['annual_revenue'].mean()"
      ]
    },
    {
      "cell_type": "code",
      "execution_count": 11,
      "metadata": {
        "colab": {
          "base_uri": "https://localhost:8080/",
          "height": 406
        },
        "id": "2f7ad185",
        "outputId": "2f9ba35b-72e2-4313-851d-38273b9f2c75"
      },
      "outputs": [
        {
          "data": {
            "image/png": "[encoded data removed]",
            "text/plain": [
              "<Figure size 1500x500 with 4 Axes>"
            ]
          },
          "metadata": {},
          "output_type": "display_data"
        },
        {
          "name": "stdout",
          "output_type": "stream",
          "text": [
            "Figure saved at: c:\\Users\\USER\\Desktop\\Inua360-The-Kenyan-SME-AI-Agent\\reports\\figures\\numerical_distribution.png\n"
          ]
        }
      ],
      "source": [
        "numerical_cols = ['employees', 'annual_revenue', 'growth_last_yr']\n",
        "\n",
        "import matplotlib.pyplot as plt\n",
        "\n",
        "save_path = REPORTS_DIR / \"numerical_distribution.png\"\n",
        "\n",
        "df[numerical_cols].hist(bins=20, figsize=(15, 5))\n",
        "plt.suptitle('Distribution of Numerical Features', y=1.02)\n",
        "plt.tight_layout()\n",
        "plt.savefig(save_path, dpi=300, bbox_inches='tight')\n",
        "plt.show()\n",
        "\n",
        "print(f\"Figure saved at: {save_path}\")\n"
      ]
    },
    {
      "cell_type": "code",
      "execution_count": 12,
      "metadata": {
        "colab": {
          "base_uri": "https://localhost:8080/",
          "height": 1000
        },
        "id": "MPh0zG1HLT2d",
        "outputId": "60b5f0ca-ae05-4085-e825-db0043e508e8"
      },
      "outputs": [
        {
          "name": "stdout",
          "output_type": "stream",
          "text": [
            "Saved: c:\\Users\\USER\\Desktop\\Inua360-The-Kenyan-SME-AI-Agent\\reports\\figures\\country_distribution.png\n",
            "Saved: c:\\Users\\USER\\Desktop\\Inua360-The-Kenyan-SME-AI-Agent\\reports\\figures\\sector_distribution.png\n",
            "Saved: c:\\Users\\USER\\Desktop\\Inua360-The-Kenyan-SME-AI-Agent\\reports\\figures\\tech_adoption_level_distribution.png\n"
          ]
        }
      ],
      "source": [
        "import matplotlib.pyplot as plt\n",
        "\n",
        "categorical_cols = ['country', 'sector', 'tech_adoption_level']\n",
        "\n",
        "\n",
        "for col in categorical_cols:\n",
        "    plt.figure(figsize=(6, 5))\n",
        "    df[col].value_counts().plot(kind='bar')\n",
        "    plt.title(f'Distribution of {col}')\n",
        "    plt.xlabel(col)\n",
        "    plt.ylabel('Frequency')\n",
        "    plt.xticks(rotation=45, ha='right')\n",
        "    plt.tight_layout()\n",
        "    \n",
        "     \n",
        "    save_path = REPORTS_DIR / f\"{col}_distribution.png\"\n",
        "    plt.savefig(save_path, dpi=300, bbox_inches='tight')\n",
        "    plt.close()  \n",
        "    \n",
        "    print(f\"Saved: {save_path}\")\n"
      ]
    },
    {
      "cell_type": "code",
      "execution_count": 13,
      "metadata": {},
      "outputs": [
        {
          "data": {
            "text/plain": [
              "['company_id',\n",
              " 'country',\n",
              " 'sector',\n",
              " 'employees',\n",
              " 'annual_revenue',\n",
              " 'tech_adoption_level',\n",
              " 'main_challenges',\n",
              " 'digital_tools_used',\n",
              " 'growth_last_yr',\n",
              " 'funding_status',\n",
              " 'female_owned',\n",
              " 'remote_work_policy']"
            ]
          },
          "execution_count": 13,
          "metadata": {},
          "output_type": "execute_result"
        }
      ],
      "source": [
        "df.columns.to_list()"
      ]
    },
    {
      "cell_type": "code",
      "execution_count": 14,
      "metadata": {
        "colab": {
          "base_uri": "https://localhost:8080/"
        },
        "id": "77984bb0",
        "outputId": "294875a4-28ee-4552-9abd-342f28f3bce2"
      },
      "outputs": [
        {
          "name": "stdout",
          "output_type": "stream",
          "text": [
            "funding_status\n",
            "Unknown         2500\n",
            "Seed            2500\n",
            "Series A        2500\n",
            "Bootstrapped    2500\n",
            "Name: count, dtype: int64\n",
            "remote_work_policy\n",
            "Has remote work policy    3666\n",
            "No remote policy          3214\n",
            "Hybrid / Partial          3120\n",
            "Name: count, dtype: int64\n"
          ]
        }
      ],
      "source": [
        "print(df['funding_status'].value_counts(dropna=False))\n",
        "print(df['remote_work_policy'].value_counts(dropna=False))"
      ]
    },
    {
      "cell_type": "code",
      "execution_count": 15,
      "metadata": {
        "colab": {
          "base_uri": "https://localhost:8080/"
        },
        "id": "f390adfa",
        "outputId": "c76150ed-dcb5-4c43-cd82-135a973c1ee3"
      },
      "outputs": [
        {
          "name": "stdout",
          "output_type": "stream",
          "text": [
            "company_id             0\n",
            "country                0\n",
            "sector                 0\n",
            "employees              0\n",
            "annual_revenue         0\n",
            "tech_adoption_level    0\n",
            "main_challenges        0\n",
            "digital_tools_used     0\n",
            "growth_last_yr         0\n",
            "funding_status         0\n",
            "female_owned           0\n",
            "remote_work_policy     0\n",
            "dtype: int64\n"
          ]
        }
      ],
      "source": [
        "df['funding_status'] = df['funding_status'].fillna('Unknown')\n",
        "df['remote_work_policy'] = df['remote_work_policy'].fillna('No Policy')\n",
        "print(df.isnull().sum())"
      ]
    },
    {
      "cell_type": "code",
      "execution_count": 16,
      "metadata": {},
      "outputs": [
        {
          "data": {
            "text/plain": [
              "funding_status\n",
              "Unknown         2500\n",
              "Seed            2500\n",
              "Series A        2500\n",
              "Bootstrapped    2500\n",
              "Name: count, dtype: int64"
            ]
          },
          "execution_count": 16,
          "metadata": {},
          "output_type": "execute_result"
        }
      ],
      "source": [
        "df['funding_status'].value_counts()"
      ]
    },
    {
      "cell_type": "code",
      "execution_count": 17,
      "metadata": {
        "colab": {
          "base_uri": "https://localhost:8080/",
          "height": 894
        },
        "id": "7c9cebcf",
        "outputId": "0500d280-095f-4cb2-b93b-eb8c34acdf6a"
      },
      "outputs": [
        {
          "name": "stdout",
          "output_type": "stream",
          "text": [
            "Mean annual revenue and growth by country:\n"
          ]
        },
        {
          "data": {
            "text/html": [
              "<div>\n",
              "<style scoped>\n",
              "    .dataframe tbody tr th:only-of-type {\n",
              "        vertical-align: middle;\n",
              "    }\n",
              "\n",
              "    .dataframe tbody tr th {\n",
              "        vertical-align: top;\n",
              "    }\n",
              "\n",
              "    .dataframe thead th {\n",
              "        text-align: right;\n",
              "    }\n",
              "</style>\n",
              "<table border=\"1\" class=\"dataframe\">\n",
              "  <thead>\n",
              "    <tr style=\"text-align: right;\">\n",
              "      <th></th>\n",
              "      <th>annual_revenue</th>\n",
              "      <th>growth_last_yr</th>\n",
              "    </tr>\n",
              "    <tr>\n",
              "      <th>country</th>\n",
              "      <th></th>\n",
              "      <th></th>\n",
              "    </tr>\n",
              "  </thead>\n",
              "  <tbody>\n",
              "    <tr>\n",
              "      <th>Ghana</th>\n",
              "      <td>5959.072588</td>\n",
              "      <td>16.229937</td>\n",
              "    </tr>\n",
              "    <tr>\n",
              "      <th>Kenya</th>\n",
              "      <td>5846.273333</td>\n",
              "      <td>16.796667</td>\n",
              "    </tr>\n",
              "    <tr>\n",
              "      <th>Nigeria</th>\n",
              "      <td>5892.623974</td>\n",
              "      <td>16.688241</td>\n",
              "    </tr>\n",
              "    <tr>\n",
              "      <th>Rwanda</th>\n",
              "      <td>5936.820829</td>\n",
              "      <td>16.866741</td>\n",
              "    </tr>\n",
              "    <tr>\n",
              "      <th>South Africa</th>\n",
              "      <td>6084.632785</td>\n",
              "      <td>16.563455</td>\n",
              "    </tr>\n",
              "  </tbody>\n",
              "</table>\n",
              "</div>"
            ],
            "text/plain": [
              "              annual_revenue  growth_last_yr\n",
              "country                                     \n",
              "Ghana            5959.072588       16.229937\n",
              "Kenya            5846.273333       16.796667\n",
              "Nigeria          5892.623974       16.688241\n",
              "Rwanda           5936.820829       16.866741\n",
              "South Africa     6084.632785       16.563455"
            ]
          },
          "metadata": {},
          "output_type": "display_data"
        },
        {
          "name": "stdout",
          "output_type": "stream",
          "text": [
            "\n",
            "Mean annual revenue and growth by sector:\n"
          ]
        },
        {
          "data": {
            "text/html": [
              "<div>\n",
              "<style scoped>\n",
              "    .dataframe tbody tr th:only-of-type {\n",
              "        vertical-align: middle;\n",
              "    }\n",
              "\n",
              "    .dataframe tbody tr th {\n",
              "        vertical-align: top;\n",
              "    }\n",
              "\n",
              "    .dataframe thead th {\n",
              "        text-align: right;\n",
              "    }\n",
              "</style>\n",
              "<table border=\"1\" class=\"dataframe\">\n",
              "  <thead>\n",
              "    <tr style=\"text-align: right;\">\n",
              "      <th></th>\n",
              "      <th>annual_revenue</th>\n",
              "      <th>growth_last_yr</th>\n",
              "    </tr>\n",
              "    <tr>\n",
              "      <th>sector</th>\n",
              "      <th></th>\n",
              "      <th></th>\n",
              "    </tr>\n",
              "  </thead>\n",
              "  <tbody>\n",
              "    <tr>\n",
              "      <th>Education</th>\n",
              "      <td>4244.753731</td>\n",
              "      <td>16.296785</td>\n",
              "    </tr>\n",
              "    <tr>\n",
              "      <th>Farming</th>\n",
              "      <td>3154.659739</td>\n",
              "      <td>15.932304</td>\n",
              "    </tr>\n",
              "    <tr>\n",
              "      <th>Finance</th>\n",
              "      <td>9635.499387</td>\n",
              "      <td>17.927696</td>\n",
              "    </tr>\n",
              "    <tr>\n",
              "      <th>Logistics</th>\n",
              "      <td>5901.805369</td>\n",
              "      <td>16.354484</td>\n",
              "    </tr>\n",
              "    <tr>\n",
              "      <th>Manufacturing</th>\n",
              "      <td>7711.158798</td>\n",
              "      <td>16.800123</td>\n",
              "    </tr>\n",
              "    <tr>\n",
              "      <th>Retail</th>\n",
              "      <td>5203.420455</td>\n",
              "      <td>16.457536</td>\n",
              "    </tr>\n",
              "  </tbody>\n",
              "</table>\n",
              "</div>"
            ],
            "text/plain": [
              "               annual_revenue  growth_last_yr\n",
              "sector                                       \n",
              "Education         4244.753731       16.296785\n",
              "Farming           3154.659739       15.932304\n",
              "Finance           9635.499387       17.927696\n",
              "Logistics         5901.805369       16.354484\n",
              "Manufacturing     7711.158798       16.800123\n",
              "Retail            5203.420455       16.457536"
            ]
          },
          "metadata": {},
          "output_type": "display_data"
        },
        {
          "name": "stdout",
          "output_type": "stream",
          "text": [
            "\n",
            "Mean annual revenue and growth by tech adoption level:\n"
          ]
        },
        {
          "data": {
            "text/html": [
              "<div>\n",
              "<style scoped>\n",
              "    .dataframe tbody tr th:only-of-type {\n",
              "        vertical-align: middle;\n",
              "    }\n",
              "\n",
              "    .dataframe tbody tr th {\n",
              "        vertical-align: top;\n",
              "    }\n",
              "\n",
              "    .dataframe thead th {\n",
              "        text-align: right;\n",
              "    }\n",
              "</style>\n",
              "<table border=\"1\" class=\"dataframe\">\n",
              "  <thead>\n",
              "    <tr style=\"text-align: right;\">\n",
              "      <th></th>\n",
              "      <th>annual_revenue</th>\n",
              "      <th>growth_last_yr</th>\n",
              "    </tr>\n",
              "    <tr>\n",
              "      <th>tech_adoption_level</th>\n",
              "      <th></th>\n",
              "      <th></th>\n",
              "    </tr>\n",
              "  </thead>\n",
              "  <tbody>\n",
              "    <tr>\n",
              "      <th>High</th>\n",
              "      <td>6345.595149</td>\n",
              "      <td>29.429685</td>\n",
              "    </tr>\n",
              "    <tr>\n",
              "      <th>Low</th>\n",
              "      <td>5545.007106</td>\n",
              "      <td>3.711563</td>\n",
              "    </tr>\n",
              "    <tr>\n",
              "      <th>Medium</th>\n",
              "      <td>5881.977042</td>\n",
              "      <td>15.342633</td>\n",
              "    </tr>\n",
              "  </tbody>\n",
              "</table>\n",
              "</div>"
            ],
            "text/plain": [
              "                     annual_revenue  growth_last_yr\n",
              "tech_adoption_level                                \n",
              "High                    6345.595149       29.429685\n",
              "Low                     5545.007106        3.711563\n",
              "Medium                  5881.977042       15.342633"
            ]
          },
          "metadata": {},
          "output_type": "display_data"
        },
        {
          "name": "stdout",
          "output_type": "stream",
          "text": [
            "\n",
            "Correlation matrix for numerical columns:\n"
          ]
        },
        {
          "data": {
            "text/html": [
              "<div>\n",
              "<style scoped>\n",
              "    .dataframe tbody tr th:only-of-type {\n",
              "        vertical-align: middle;\n",
              "    }\n",
              "\n",
              "    .dataframe tbody tr th {\n",
              "        vertical-align: top;\n",
              "    }\n",
              "\n",
              "    .dataframe thead th {\n",
              "        text-align: right;\n",
              "    }\n",
              "</style>\n",
              "<table border=\"1\" class=\"dataframe\">\n",
              "  <thead>\n",
              "    <tr style=\"text-align: right;\">\n",
              "      <th></th>\n",
              "      <th>employees</th>\n",
              "      <th>annual_revenue</th>\n",
              "      <th>growth_last_yr</th>\n",
              "    </tr>\n",
              "  </thead>\n",
              "  <tbody>\n",
              "    <tr>\n",
              "      <th>employees</th>\n",
              "      <td>1.000000</td>\n",
              "      <td>0.877520</td>\n",
              "      <td>0.165139</td>\n",
              "    </tr>\n",
              "    <tr>\n",
              "      <th>annual_revenue</th>\n",
              "      <td>0.877520</td>\n",
              "      <td>1.000000</td>\n",
              "      <td>0.228765</td>\n",
              "    </tr>\n",
              "    <tr>\n",
              "      <th>growth_last_yr</th>\n",
              "      <td>0.165139</td>\n",
              "      <td>0.228765</td>\n",
              "      <td>1.000000</td>\n",
              "    </tr>\n",
              "  </tbody>\n",
              "</table>\n",
              "</div>"
            ],
            "text/plain": [
              "                employees  annual_revenue  growth_last_yr\n",
              "employees        1.000000        0.877520        0.165139\n",
              "annual_revenue   0.877520        1.000000        0.228765\n",
              "growth_last_yr   0.165139        0.228765        1.000000"
            ]
          },
          "metadata": {},
          "output_type": "display_data"
        }
      ],
      "source": [
        "country_revenue_growth = df.groupby('country')[['annual_revenue', 'growth_last_yr']].mean()\n",
        "print(\"Mean annual revenue and growth by country:\")\n",
        "display(country_revenue_growth)\n",
        "\n",
        "sector_revenue_growth = df.groupby('sector')[['annual_revenue', 'growth_last_yr']].mean()\n",
        "print(\"\\nMean annual revenue and growth by sector:\")\n",
        "display(sector_revenue_growth)\n",
        "\n",
        "tech_adoption_revenue_growth = df.groupby('tech_adoption_level')[['annual_revenue', 'growth_last_yr']].mean()\n",
        "print(\"\\nMean annual revenue and growth by tech adoption level:\")\n",
        "display(tech_adoption_revenue_growth)\n",
        "\n",
        "correlation_matrix = df[['employees', 'annual_revenue', 'growth_last_yr']].corr()\n",
        "print(\"\\nCorrelation matrix for numerical columns:\")\n",
        "display(correlation_matrix)"
      ]
    },
    {
      "cell_type": "code",
      "execution_count": 18,
      "metadata": {
        "colab": {
          "base_uri": "https://localhost:8080/",
          "height": 921
        },
        "id": "7d41709b",
        "outputId": "b1b03858-25ee-406d-a5d7-56ac98c7b81f"
      },
      "outputs": [
        {
          "name": "stdout",
          "output_type": "stream",
          "text": [
            "Analysis by Tech Adoption Level and Country:\n"
          ]
        },
        {
          "data": {
            "text/html": [
              "<div>\n",
              "<style scoped>\n",
              "    .dataframe tbody tr th:only-of-type {\n",
              "        vertical-align: middle;\n",
              "    }\n",
              "\n",
              "    .dataframe tbody tr th {\n",
              "        vertical-align: top;\n",
              "    }\n",
              "\n",
              "    .dataframe thead th {\n",
              "        text-align: right;\n",
              "    }\n",
              "</style>\n",
              "<table border=\"1\" class=\"dataframe\">\n",
              "  <thead>\n",
              "    <tr style=\"text-align: right;\">\n",
              "      <th></th>\n",
              "      <th></th>\n",
              "      <th>annual_revenue</th>\n",
              "      <th>growth_last_yr</th>\n",
              "    </tr>\n",
              "    <tr>\n",
              "      <th>tech_adoption_level</th>\n",
              "      <th>country</th>\n",
              "      <th></th>\n",
              "      <th></th>\n",
              "    </tr>\n",
              "  </thead>\n",
              "  <tbody>\n",
              "    <tr>\n",
              "      <th rowspan=\"5\" valign=\"top\">High</th>\n",
              "      <th>Ghana</th>\n",
              "      <td>6679.371120</td>\n",
              "      <td>29.214575</td>\n",
              "    </tr>\n",
              "    <tr>\n",
              "      <th>Kenya</th>\n",
              "      <td>5836.795918</td>\n",
              "      <td>29.451701</td>\n",
              "    </tr>\n",
              "    <tr>\n",
              "      <th>Nigeria</th>\n",
              "      <td>6331.172727</td>\n",
              "      <td>29.451948</td>\n",
              "    </tr>\n",
              "    <tr>\n",
              "      <th>Rwanda</th>\n",
              "      <td>6536.546603</td>\n",
              "      <td>29.635071</td>\n",
              "    </tr>\n",
              "    <tr>\n",
              "      <th>South Africa</th>\n",
              "      <td>6374.486301</td>\n",
              "      <td>29.422945</td>\n",
              "    </tr>\n",
              "    <tr>\n",
              "      <th rowspan=\"5\" valign=\"top\">Low</th>\n",
              "      <th>Ghana</th>\n",
              "      <td>5565.939522</td>\n",
              "      <td>3.700422</td>\n",
              "    </tr>\n",
              "    <tr>\n",
              "      <th>Kenya</th>\n",
              "      <td>5354.299225</td>\n",
              "      <td>3.522481</td>\n",
              "    </tr>\n",
              "    <tr>\n",
              "      <th>Nigeria</th>\n",
              "      <td>5814.639586</td>\n",
              "      <td>3.785820</td>\n",
              "    </tr>\n",
              "    <tr>\n",
              "      <th>Rwanda</th>\n",
              "      <td>4984.289773</td>\n",
              "      <td>3.732955</td>\n",
              "    </tr>\n",
              "    <tr>\n",
              "      <th>South Africa</th>\n",
              "      <td>5959.289720</td>\n",
              "      <td>3.839252</td>\n",
              "    </tr>\n",
              "    <tr>\n",
              "      <th rowspan=\"5\" valign=\"top\">Medium</th>\n",
              "      <th>Ghana</th>\n",
              "      <td>5627.187990</td>\n",
              "      <td>15.298956</td>\n",
              "    </tr>\n",
              "    <tr>\n",
              "      <th>Kenya</th>\n",
              "      <td>6296.675000</td>\n",
              "      <td>15.769444</td>\n",
              "    </tr>\n",
              "    <tr>\n",
              "      <th>Nigeria</th>\n",
              "      <td>5511.248996</td>\n",
              "      <td>15.224900</td>\n",
              "    </tr>\n",
              "    <tr>\n",
              "      <th>Rwanda</th>\n",
              "      <td>6134.116800</td>\n",
              "      <td>15.030400</td>\n",
              "    </tr>\n",
              "    <tr>\n",
              "      <th>South Africa</th>\n",
              "      <td>5909.305317</td>\n",
              "      <td>15.358491</td>\n",
              "    </tr>\n",
              "  </tbody>\n",
              "</table>\n",
              "</div>"
            ],
            "text/plain": [
              "                                  annual_revenue  growth_last_yr\n",
              "tech_adoption_level country                                     \n",
              "High                Ghana            6679.371120       29.214575\n",
              "                    Kenya            5836.795918       29.451701\n",
              "                    Nigeria          6331.172727       29.451948\n",
              "                    Rwanda           6536.546603       29.635071\n",
              "                    South Africa     6374.486301       29.422945\n",
              "Low                 Ghana            5565.939522        3.700422\n",
              "                    Kenya            5354.299225        3.522481\n",
              "                    Nigeria          5814.639586        3.785820\n",
              "                    Rwanda           4984.289773        3.732955\n",
              "                    South Africa     5959.289720        3.839252\n",
              "Medium              Ghana            5627.187990       15.298956\n",
              "                    Kenya            6296.675000       15.769444\n",
              "                    Nigeria          5511.248996       15.224900\n",
              "                    Rwanda           6134.116800       15.030400\n",
              "                    South Africa     5909.305317       15.358491"
            ]
          },
          "metadata": {},
          "output_type": "display_data"
        },
        {
          "name": "stdout",
          "output_type": "stream",
          "text": [
            "\n",
            "Analysis of Growth by Funding Status:\n"
          ]
        },
        {
          "data": {
            "text/html": [
              "<div>\n",
              "<style scoped>\n",
              "    .dataframe tbody tr th:only-of-type {\n",
              "        vertical-align: middle;\n",
              "    }\n",
              "\n",
              "    .dataframe tbody tr th {\n",
              "        vertical-align: top;\n",
              "    }\n",
              "\n",
              "    .dataframe thead th {\n",
              "        text-align: right;\n",
              "    }\n",
              "</style>\n",
              "<table border=\"1\" class=\"dataframe\">\n",
              "  <thead>\n",
              "    <tr style=\"text-align: right;\">\n",
              "      <th></th>\n",
              "      <th>funding_status</th>\n",
              "      <th>growth_last_yr</th>\n",
              "    </tr>\n",
              "  </thead>\n",
              "  <tbody>\n",
              "    <tr>\n",
              "      <th>0</th>\n",
              "      <td>Bootstrapped</td>\n",
              "      <td>3.4396</td>\n",
              "    </tr>\n",
              "    <tr>\n",
              "      <th>1</th>\n",
              "      <td>Seed</td>\n",
              "      <td>21.2552</td>\n",
              "    </tr>\n",
              "    <tr>\n",
              "      <th>2</th>\n",
              "      <td>Series A</td>\n",
              "      <td>29.7560</td>\n",
              "    </tr>\n",
              "    <tr>\n",
              "      <th>3</th>\n",
              "      <td>Unknown</td>\n",
              "      <td>12.0292</td>\n",
              "    </tr>\n",
              "  </tbody>\n",
              "</table>\n",
              "</div>"
            ],
            "text/plain": [
              "  funding_status  growth_last_yr\n",
              "0   Bootstrapped          3.4396\n",
              "1           Seed         21.2552\n",
              "2       Series A         29.7560\n",
              "3        Unknown         12.0292"
            ]
          },
          "metadata": {},
          "output_type": "display_data"
        },
        {
          "name": "stdout",
          "output_type": "stream",
          "text": [
            "\n",
            "Analysis of Growth by Remote Work Policy:\n"
          ]
        },
        {
          "data": {
            "text/html": [
              "<div>\n",
              "<style scoped>\n",
              "    .dataframe tbody tr th:only-of-type {\n",
              "        vertical-align: middle;\n",
              "    }\n",
              "\n",
              "    .dataframe tbody tr th {\n",
              "        vertical-align: top;\n",
              "    }\n",
              "\n",
              "    .dataframe thead th {\n",
              "        text-align: right;\n",
              "    }\n",
              "</style>\n",
              "<table border=\"1\" class=\"dataframe\">\n",
              "  <thead>\n",
              "    <tr style=\"text-align: right;\">\n",
              "      <th></th>\n",
              "      <th>remote_work_policy</th>\n",
              "      <th>growth_last_yr</th>\n",
              "    </tr>\n",
              "  </thead>\n",
              "  <tbody>\n",
              "    <tr>\n",
              "      <th>0</th>\n",
              "      <td>Has remote work policy</td>\n",
              "      <td>24.906710</td>\n",
              "    </tr>\n",
              "    <tr>\n",
              "      <th>1</th>\n",
              "      <td>Hybrid / Partial</td>\n",
              "      <td>15.095833</td>\n",
              "    </tr>\n",
              "    <tr>\n",
              "      <th>2</th>\n",
              "      <td>No remote policy</td>\n",
              "      <td>8.647480</td>\n",
              "    </tr>\n",
              "  </tbody>\n",
              "</table>\n",
              "</div>"
            ],
            "text/plain": [
              "       remote_work_policy  growth_last_yr\n",
              "0  Has remote work policy       24.906710\n",
              "1        Hybrid / Partial       15.095833\n",
              "2        No remote policy        8.647480"
            ]
          },
          "metadata": {},
          "output_type": "display_data"
        }
      ],
      "source": [
        "tech_country_analysis = df.groupby(['tech_adoption_level', 'country'])[['annual_revenue', 'growth_last_yr']].mean()\n",
        "funding_growth = df.groupby('funding_status')['growth_last_yr'].mean().reset_index()\n",
        "remote_work_growth = df.groupby('remote_work_policy')['growth_last_yr'].mean().reset_index()\n",
        "\n",
        "print(\"Analysis by Tech Adoption Level and Country:\")\n",
        "display(tech_country_analysis)\n",
        "\n",
        "print(\"\\nAnalysis of Growth by Funding Status:\")\n",
        "display(funding_growth)\n",
        "\n",
        "print(\"\\nAnalysis of Growth by Remote Work Policy:\")\n",
        "display(remote_work_growth)"
      ]
    },
    {
      "cell_type": "code",
      "execution_count": 19,
      "metadata": {
        "colab": {
          "base_uri": "https://localhost:8080/",
          "height": 574
        },
        "id": "wLNFOX6MMzcX",
        "outputId": "b5041f1f-e4df-404f-9dbc-9913a410133e"
      },
      "outputs": [],
      "source": [
        "# mean annual revenue and growth by country\n",
        "country_revenue_growth[['annual_revenue', 'growth_last_yr']].plot(kind='bar', figsize=(12, 6))\n",
        "plt.title('Mean Annual Revenue and Growth by Country')\n",
        "plt.xlabel('Country')\n",
        "plt.ylabel('Amount')\n",
        "plt.xticks(rotation=45, ha='right')\n",
        "plt.tight_layout()\n",
        "save_path = REPORTS_DIR / f\"Mean_Annual_Revenue_and_Growth_by_Country.png\"\n",
        "plt.savefig(save_path, dpi=300, bbox_inches='tight')\n",
        "plt.close() \n",
        "plt.show() \n",
        "    \n",
        " "
      ]
    },
    {
      "cell_type": "code",
      "execution_count": 20,
      "metadata": {
        "colab": {
          "base_uri": "https://localhost:8080/",
          "height": 574
        },
        "id": "3W1FrZnzMkFa",
        "outputId": "ab2084c1-53ea-4954-8621-4eeed0625351"
      },
      "outputs": [],
      "source": [
        "# mean annual revenue and growth by sector\n",
        "sector_revenue_growth[['annual_revenue', 'growth_last_yr']].plot(kind='bar', figsize=(12, 6))\n",
        "plt.title('Mean Annual Revenue and Growth by Sector')\n",
        "plt.xlabel('Sector')\n",
        "plt.ylabel('Amount')\n",
        "plt.xticks(rotation=45, ha='right')\n",
        "plt.tight_layout()\n",
        "save_path = REPORTS_DIR / f\"Mean_annual_Revenue_and_Growth_by_Sector.png\"\n",
        "plt.savefig(save_path, dpi=300, bbox_inches='tight')\n",
        "plt.close()  \n",
        "    \n",
        "plt.show()"
      ]
    },
    {
      "cell_type": "code",
      "execution_count": 21,
      "metadata": {
        "colab": {
          "base_uri": "https://localhost:8080/",
          "height": 607
        },
        "id": "GMq9cj5EMooq",
        "outputId": "24b4c33e-7032-43c8-dbba-864226199678"
      },
      "outputs": [],
      "source": [
        "# mean annual revenue and growth by tech adoption level\n",
        "tech_adoption_revenue_growth[['annual_revenue', 'growth_last_yr']].plot(kind='bar', figsize=(10, 6))\n",
        "plt.title('Mean Annual Revenue and Growth by Tech Adoption Level')\n",
        "plt.xlabel('Tech Adoption Level')\n",
        "plt.ylabel('Amount')\n",
        "plt.xticks(rotation=0)\n",
        "plt.tight_layout()\n",
        "save_path = REPORTS_DIR / f\"Mean_Annual_Revenue_and_Growth_by_Tech_Adoption_Level.png\"\n",
        "plt.savefig(save_path, dpi=300, bbox_inches='tight')\n",
        "plt.close()  \n",
        "    \n",
        "plt.show()"
      ]
    },
    {
      "cell_type": "code",
      "execution_count": 22,
      "metadata": {
        "colab": {
          "base_uri": "https://localhost:8080/",
          "height": 607
        },
        "id": "Qc6BoRssMscK",
        "outputId": "ec595ab8-40d4-4781-d5e3-b2266e1a3383"
      },
      "outputs": [],
      "source": [
        "# correlation matrix\n",
        "plt.figure(figsize=(8, 6))\n",
        "sns.heatmap(correlation_matrix, annot=True, cmap='coolwarm', fmt=\".2f\")\n",
        "plt.title('Correlation Matrix of Numerical Columns')\n",
        "plt.tight_layout()\n",
        "save_path = REPORTS_DIR / f\"Correlation_Matrix_of_Numerical_Columns.png\"\n",
        "plt.savefig(save_path, dpi=300, bbox_inches='tight')\n",
        "plt.close()  \n",
        "    \n",
        "plt.show()"
      ]
    },
    {
      "cell_type": "code",
      "execution_count": 23,
      "metadata": {
        "colab": {
          "base_uri": "https://localhost:8080/",
          "height": 1000
        },
        "id": "01c7e589",
        "outputId": "c7a83256-8d7b-431d-de40-76389bd87a6d"
      },
      "outputs": [
        {
          "data": {
            "image/png": "[encoded data removed]",
            "text/plain": [
              "<Figure size 1200x600 with 1 Axes>"
            ]
          },
          "metadata": {},
          "output_type": "display_data"
        },
        {
          "name": "stdout",
          "output_type": "stream",
          "text": [
            "Saved: c:\\Users\\USER\\Desktop\\Inua360-The-Kenyan-SME-AI-Agent\\reports\\figures\\Mean_Growth_by_Funding_Status.png\n"
          ]
        },
        {
          "data": {
            "image/png": "[encoded data removed]",
            "text/plain": [
              "<Figure size 640x480 with 1 Axes>"
            ]
          },
          "metadata": {},
          "output_type": "display_data"
        },
        {
          "name": "stdout",
          "output_type": "stream",
          "text": [
            "Saved: c:\\Users\\USER\\Desktop\\Inua360-The-Kenyan-SME-AI-Agent\\reports\\figures\\mean_growth_by_funding_and_remote_policy.png\n"
          ]
        },
        {
          "data": {
            "image/png": "[encoded data removed]",
            "text/plain": [
              "<Figure size 1500x700 with 1 Axes>"
            ]
          },
          "metadata": {},
          "output_type": "display_data"
        },
        {
          "name": "stdout",
          "output_type": "stream",
          "text": [
            "Saved: c:\\Users\\USER\\Desktop\\Inua360-The-Kenyan-SME-AI-Agent\\reports\\figures\\mean_annual_revenue_by_tech_adoption_and_country.png\n"
          ]
        },
        {
          "data": {
            "image/png": "[encoded data removed]",
            "text/plain": [
              "<Figure size 1500x700 with 1 Axes>"
            ]
          },
          "metadata": {},
          "output_type": "display_data"
        },
        {
          "name": "stdout",
          "output_type": "stream",
          "text": [
            "Saved: c:\\Users\\USER\\Desktop\\Inua360-The-Kenyan-SME-AI-Agent\\reports\\figures\\mean_growth_last_year_by_tech_adoption_and_country.png\n"
          ]
        }
      ],
      "source": [
        "import matplotlib.pyplot as plt\n",
        "import seaborn as sns\n",
        "from pathlib import Path\n",
        "\n",
        "REPORTS_DIR = PROJECT_ROOT / \"reports\" / \"figures\"\n",
        "REPORTS_DIR.mkdir(parents=True, exist_ok=True)\n",
        "\n",
        "plt.figure(figsize=(12, 6))\n",
        "\n",
        "plt.subplot(1, 2, 1)\n",
        "sns.barplot(x='funding_status', y='growth_last_yr', data=funding_growth)\n",
        "plt.title('Mean Growth by Funding Status')\n",
        "plt.xlabel('Funding Status')\n",
        "plt.ylabel('Mean Growth Last Year')\n",
        "plt.xticks(rotation=45, ha='right')\n",
        "\n",
        "save_path = REPORTS_DIR / \"Mean_Growth_by_Funding_Status.png\"\n",
        "plt.savefig(save_path, dpi=300, bbox_inches='tight')\n",
        "plt.show()\n",
        "print(f\"Saved: {save_path}\")\n",
        "\n",
        "plt.subplot(1, 2, 2)\n",
        "sns.barplot(x='remote_work_policy', y='growth_last_yr', data=remote_work_growth)\n",
        "plt.title('Mean Growth by Remote Work Policy')\n",
        "plt.xlabel('Remote Work Policy')\n",
        "plt.ylabel('Mean Growth Last Year')\n",
        "plt.xticks(rotation=45, ha='right')\n",
        "\n",
        "plt.tight_layout()\n",
        "\n",
        "save_path = REPORTS_DIR / \"mean_growth_by_funding_and_remote_policy.png\"\n",
        "plt.savefig(save_path, dpi=300, bbox_inches='tight')\n",
        "plt.show()\n",
        "print(f\"Saved: {save_path}\")\n",
        "\n",
        "ax = tech_country_analysis['annual_revenue'].unstack().plot(kind='bar', figsize=(15, 7))\n",
        "plt.title('Mean Annual Revenue by Tech Adoption Level and Country')\n",
        "plt.xlabel('Country')\n",
        "plt.ylabel('Mean Annual Revenue')\n",
        "plt.xticks(rotation=45, ha='right')\n",
        "plt.legend(title='Tech Adoption Level')\n",
        "plt.tight_layout()\n",
        " \n",
        "save_path = REPORTS_DIR / \"mean_annual_revenue_by_tech_adoption_and_country.png\"\n",
        "plt.savefig(save_path, dpi=300, bbox_inches='tight')\n",
        "plt.show()\n",
        "print(f\"Saved: {save_path}\")\n",
        "\n",
        "ax = tech_country_analysis['growth_last_yr'].unstack().plot(kind='bar', figsize=(15, 7))\n",
        "plt.title('Mean Growth Last Year by Tech Adoption Level and Country')\n",
        "plt.xlabel('Country')\n",
        "plt.ylabel('Mean Growth Last Year')\n",
        "plt.xticks(rotation=45, ha='right')\n",
        "plt.legend(title='Tech Adoption Level')\n",
        "plt.tight_layout()\n",
        "\n",
        " \n",
        "save_path = REPORTS_DIR / \"mean_growth_last_year_by_tech_adoption_and_country.png\"\n",
        "plt.savefig(save_path, dpi=300, bbox_inches='tight')\n",
        "plt.show()\n",
        "print(f\"Saved: {save_path}\")\n"
      ]
    },
    {
      "cell_type": "code",
      "execution_count": 24,
      "metadata": {},
      "outputs": [
        {
          "data": {
            "text/plain": [
              "company_id             0\n",
              "country                0\n",
              "sector                 0\n",
              "employees              0\n",
              "annual_revenue         0\n",
              "tech_adoption_level    0\n",
              "main_challenges        0\n",
              "digital_tools_used     0\n",
              "growth_last_yr         0\n",
              "funding_status         0\n",
              "female_owned           0\n",
              "remote_work_policy     0\n",
              "dtype: int64"
            ]
          },
          "execution_count": 24,
          "metadata": {},
          "output_type": "execute_result"
        }
      ],
      "source": [
        "df.isnull().sum()"
      ]
    },
    {
      "cell_type": "code",
      "execution_count": 25,
      "metadata": {},
      "outputs": [
        {
          "name": "stdout",
          "output_type": "stream",
          "text": [
            "File saved at: c:\\Users\\USER\\Desktop\\Inua360-The-Kenyan-SME-AI-Agent\\data\\interim\\Clean_data.csv\n"
          ]
        }
      ],
      "source": [
        "from pathlib import Path\n",
        "\n",
        "SAVE_PATH = (PROJECT_ROOT / \"data\" / \"interim\")\n",
        "SAVE_PATH.mkdir(parents=True, exist_ok=True)\n",
        "\n",
        "file_path = SAVE_PATH / \"Clean_data.csv\"\n",
        "df.to_csv(file_path, index=False)\n",
        "\n",
        "print(f\"File saved at: {file_path}\")\n"
      ]
    },
    {
      "cell_type": "code",
      "execution_count": 26,
      "metadata": {},
      "outputs": [
        {
          "data": {
            "text/plain": [
              "funding_status\n",
              "Unknown         0.25\n",
              "Seed            0.25\n",
              "Series A        0.25\n",
              "Bootstrapped    0.25\n",
              "Name: proportion, dtype: float64"
            ]
          },
          "execution_count": 26,
          "metadata": {},
          "output_type": "execute_result"
        }
      ],
      "source": [
        "df['funding_status'].value_counts(normalize=True)\n"
      ]
    },
    {
      "cell_type": "code",
      "execution_count": null,
      "metadata": {},
      "outputs": [],
      "source": []
    }
  ],
  "metadata": {
    "colab": {
      "authorship_tag": "ABX9TyOSy2tIU4sLHTHWBxIz4tkF",
      "include_colab_link": true,
      "provenance": []
    },
    "kernelspec": {
      "display_name": "Python 3",
      "language": "python",
      "name": "python3"
    },
    "language_info": {
      "codemirror_mode": {
        "name": "ipython",
        "version": 3
      },
      "file_extension": ".py",
      "mimetype": "text/x-python",
      "name": "python",
      "nbconvert_exporter": "python",
      "pygments_lexer": "ipython3",
      "version": "3.10.11"
    }
  },
  "nbformat": 4,
  "nbformat_minor": 0
}
