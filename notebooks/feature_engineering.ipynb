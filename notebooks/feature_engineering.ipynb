{
 "cells": [
  {
   "cell_type": "code",
   "execution_count": 20,
   "id": "97bd84c9",
   "metadata": {},
   "outputs": [],
   "source": [
    "import pandas as pd\n",
    "import numpy as np\n",
    "from sklearn.preprocessing import LabelEncoder, OneHotEncoder\n",
    "from sklearn.model_selection import train_test_split\n",
    "from sklearn.compose import ColumnTransformer\n",
    "from sklearn.preprocessing import StandardScaler\n",
    "import os\n",
    "from pathlib import Path"
   ]
  },
  {
   "cell_type": "code",
   "execution_count": 21,
   "id": "558abc2c",
   "metadata": {},
   "outputs": [],
   "source": [
    "PROJECT_ROOT = Path.cwd().parent\n",
    "INTERIM_DIR = PROJECT_ROOT / \"data\" / \"interim\"\n",
    "PROCESSED_DIR = PROJECT_ROOT / \"data\" / \"processed\"\n",
    "\n",
    "INTERIM_DIR.mkdir(parents=True, exist_ok=True)\n",
    "PROCESSED_DIR.mkdir(parents=True, exist_ok=True)"
   ]
  },
  {
   "cell_type": "code",
   "execution_count": 22,
   "id": "f52f9d95",
   "metadata": {},
   "outputs": [
    {
     "data": {
      "application/vnd.microsoft.datawrangler.viewer.v0+json": {
       "columns": [
        {
         "name": "index",
         "rawType": "int64",
         "type": "integer"
        },
        {
         "name": "company_id",
         "rawType": "int64",
         "type": "integer"
        },
        {
         "name": "country",
         "rawType": "object",
         "type": "string"
        },
        {
         "name": "sector",
         "rawType": "object",
         "type": "string"
        },
        {
         "name": "employees",
         "rawType": "int64",
         "type": "integer"
        },
        {
         "name": "annual_revenue",
         "rawType": "int64",
         "type": "integer"
        },
        {
         "name": "tech_adoption_level",
         "rawType": "object",
         "type": "string"
        },
        {
         "name": "main_challenges",
         "rawType": "object",
         "type": "string"
        },
        {
         "name": "digital_tools_used",
         "rawType": "object",
         "type": "string"
        },
        {
         "name": "growth_last_yr",
         "rawType": "int64",
         "type": "integer"
        },
        {
         "name": "funding_status",
         "rawType": "object",
         "type": "string"
        },
        {
         "name": "female_owned",
         "rawType": "object",
         "type": "string"
        },
        {
         "name": "remote_work_policy",
         "rawType": "object",
         "type": "string"
        }
       ],
       "ref": "21d7bac9-b00e-494a-bfc5-1a879e2d5a76",
       "rows": [
        [
         "0",
         "1",
         "Ghana",
         "Education",
         "130",
         "386441",
         "Low",
         "Awareness",
         "CRM, WhatsApp, E-commerce",
         "11",
         "Seed",
         "No",
         "No Policy"
        ],
        [
         "1",
         "2",
         "Rwanda",
         "Farming",
         "367",
         "383576",
         "Low",
         "Internet",
         "WhatsApp",
         "27",
         "Series A",
         "Yes",
         "Partial"
        ],
        [
         "2",
         "3",
         "Kenya",
         "Farming",
         "87",
         "496528",
         "Low",
         "Awareness, Internet",
         "Google My Business, Mobile money, POS",
         "1",
         "Bootstrapped",
         "No",
         "Full"
        ],
        [
         "3",
         "4",
         "Kenya",
         "Manufacturing",
         "131",
         "360550",
         "High",
         "Regulation",
         "Google My Business, E-commerce, POS",
         "6",
         "Unknown",
         "Yes",
         "Full"
        ],
        [
         "4",
         "5",
         "Nigeria",
         "Logistics",
         "136",
         "173801",
         "High",
         "Regulation, Skills",
         "E-commerce",
         "44",
         "Series A",
         "Yes",
         "Partial"
        ]
       ],
       "shape": {
        "columns": 12,
        "rows": 5
       }
      },
      "text/html": [
       "<div>\n",
       "<style scoped>\n",
       "    .dataframe tbody tr th:only-of-type {\n",
       "        vertical-align: middle;\n",
       "    }\n",
       "\n",
       "    .dataframe tbody tr th {\n",
       "        vertical-align: top;\n",
       "    }\n",
       "\n",
       "    .dataframe thead th {\n",
       "        text-align: right;\n",
       "    }\n",
       "</style>\n",
       "<table border=\"1\" class=\"dataframe\">\n",
       "  <thead>\n",
       "    <tr style=\"text-align: right;\">\n",
       "      <th></th>\n",
       "      <th>company_id</th>\n",
       "      <th>country</th>\n",
       "      <th>sector</th>\n",
       "      <th>employees</th>\n",
       "      <th>annual_revenue</th>\n",
       "      <th>tech_adoption_level</th>\n",
       "      <th>main_challenges</th>\n",
       "      <th>digital_tools_used</th>\n",
       "      <th>growth_last_yr</th>\n",
       "      <th>funding_status</th>\n",
       "      <th>female_owned</th>\n",
       "      <th>remote_work_policy</th>\n",
       "    </tr>\n",
       "  </thead>\n",
       "  <tbody>\n",
       "    <tr>\n",
       "      <th>0</th>\n",
       "      <td>1</td>\n",
       "      <td>Ghana</td>\n",
       "      <td>Education</td>\n",
       "      <td>130</td>\n",
       "      <td>386441</td>\n",
       "      <td>Low</td>\n",
       "      <td>Awareness</td>\n",
       "      <td>CRM, WhatsApp, E-commerce</td>\n",
       "      <td>11</td>\n",
       "      <td>Seed</td>\n",
       "      <td>No</td>\n",
       "      <td>No Policy</td>\n",
       "    </tr>\n",
       "    <tr>\n",
       "      <th>1</th>\n",
       "      <td>2</td>\n",
       "      <td>Rwanda</td>\n",
       "      <td>Farming</td>\n",
       "      <td>367</td>\n",
       "      <td>383576</td>\n",
       "      <td>Low</td>\n",
       "      <td>Internet</td>\n",
       "      <td>WhatsApp</td>\n",
       "      <td>27</td>\n",
       "      <td>Series A</td>\n",
       "      <td>Yes</td>\n",
       "      <td>Partial</td>\n",
       "    </tr>\n",
       "    <tr>\n",
       "      <th>2</th>\n",
       "      <td>3</td>\n",
       "      <td>Kenya</td>\n",
       "      <td>Farming</td>\n",
       "      <td>87</td>\n",
       "      <td>496528</td>\n",
       "      <td>Low</td>\n",
       "      <td>Awareness, Internet</td>\n",
       "      <td>Google My Business, Mobile money, POS</td>\n",
       "      <td>1</td>\n",
       "      <td>Bootstrapped</td>\n",
       "      <td>No</td>\n",
       "      <td>Full</td>\n",
       "    </tr>\n",
       "    <tr>\n",
       "      <th>3</th>\n",
       "      <td>4</td>\n",
       "      <td>Kenya</td>\n",
       "      <td>Manufacturing</td>\n",
       "      <td>131</td>\n",
       "      <td>360550</td>\n",
       "      <td>High</td>\n",
       "      <td>Regulation</td>\n",
       "      <td>Google My Business, E-commerce, POS</td>\n",
       "      <td>6</td>\n",
       "      <td>Unknown</td>\n",
       "      <td>Yes</td>\n",
       "      <td>Full</td>\n",
       "    </tr>\n",
       "    <tr>\n",
       "      <th>4</th>\n",
       "      <td>5</td>\n",
       "      <td>Nigeria</td>\n",
       "      <td>Logistics</td>\n",
       "      <td>136</td>\n",
       "      <td>173801</td>\n",
       "      <td>High</td>\n",
       "      <td>Regulation, Skills</td>\n",
       "      <td>E-commerce</td>\n",
       "      <td>44</td>\n",
       "      <td>Series A</td>\n",
       "      <td>Yes</td>\n",
       "      <td>Partial</td>\n",
       "    </tr>\n",
       "  </tbody>\n",
       "</table>\n",
       "</div>"
      ],
      "text/plain": [
       "   company_id  country         sector  employees  annual_revenue  \\\n",
       "0           1    Ghana      Education        130          386441   \n",
       "1           2   Rwanda        Farming        367          383576   \n",
       "2           3    Kenya        Farming         87          496528   \n",
       "3           4    Kenya  Manufacturing        131          360550   \n",
       "4           5  Nigeria      Logistics        136          173801   \n",
       "\n",
       "  tech_adoption_level      main_challenges  \\\n",
       "0                 Low            Awareness   \n",
       "1                 Low             Internet   \n",
       "2                 Low  Awareness, Internet   \n",
       "3                High           Regulation   \n",
       "4                High   Regulation, Skills   \n",
       "\n",
       "                      digital_tools_used  growth_last_yr funding_status  \\\n",
       "0              CRM, WhatsApp, E-commerce              11           Seed   \n",
       "1                               WhatsApp              27       Series A   \n",
       "2  Google My Business, Mobile money, POS               1   Bootstrapped   \n",
       "3    Google My Business, E-commerce, POS               6        Unknown   \n",
       "4                             E-commerce              44       Series A   \n",
       "\n",
       "  female_owned remote_work_policy  \n",
       "0           No          No Policy  \n",
       "1          Yes            Partial  \n",
       "2           No               Full  \n",
       "3          Yes               Full  \n",
       "4          Yes            Partial  "
      ]
     },
     "execution_count": 22,
     "metadata": {},
     "output_type": "execute_result"
    }
   ],
   "source": [
    "data=pd.read_csv(INTERIM_DIR / \"Clean_data.csv\")\n",
    "data.head()"
   ]
  },
  {
   "cell_type": "code",
   "execution_count": 23,
   "id": "ba04d880",
   "metadata": {},
   "outputs": [],
   "source": [
    "data.columns = data.columns.str.strip()"
   ]
  },
  {
   "cell_type": "code",
   "execution_count": 24,
   "id": "183a1f4a",
   "metadata": {},
   "outputs": [
    {
     "data": {
      "text/plain": [
       "['company_id',\n",
       " 'country',\n",
       " 'sector',\n",
       " 'employees',\n",
       " 'annual_revenue',\n",
       " 'tech_adoption_level',\n",
       " 'main_challenges',\n",
       " 'digital_tools_used',\n",
       " 'growth_last_yr',\n",
       " 'funding_status',\n",
       " 'female_owned',\n",
       " 'remote_work_policy']"
      ]
     },
     "execution_count": 24,
     "metadata": {},
     "output_type": "execute_result"
    }
   ],
   "source": [
    "data.columns.to_list()"
   ]
  },
  {
   "cell_type": "code",
   "execution_count": 25,
   "id": "966d5da6",
   "metadata": {},
   "outputs": [
    {
     "data": {
      "application/vnd.microsoft.datawrangler.viewer.v0+json": {
       "columns": [
        {
         "name": "index",
         "rawType": "int64",
         "type": "integer"
        },
        {
         "name": "company_id",
         "rawType": "int64",
         "type": "integer"
        },
        {
         "name": "country",
         "rawType": "object",
         "type": "string"
        },
        {
         "name": "sector",
         "rawType": "object",
         "type": "string"
        },
        {
         "name": "employees",
         "rawType": "int64",
         "type": "integer"
        },
        {
         "name": "annual_revenue",
         "rawType": "int64",
         "type": "integer"
        },
        {
         "name": "tech_adoption_level",
         "rawType": "object",
         "type": "string"
        },
        {
         "name": "main_challenges",
         "rawType": "object",
         "type": "string"
        },
        {
         "name": "digital_tools_used",
         "rawType": "object",
         "type": "string"
        },
        {
         "name": "growth_last_yr",
         "rawType": "int64",
         "type": "integer"
        },
        {
         "name": "funding_status",
         "rawType": "object",
         "type": "string"
        },
        {
         "name": "female_owned",
         "rawType": "object",
         "type": "string"
        },
        {
         "name": "remote_work_policy",
         "rawType": "object",
         "type": "string"
        },
        {
         "name": "revenue_per_employee",
         "rawType": "float64",
         "type": "float"
        }
       ],
       "ref": "d13aa8a2-707b-424c-8bb8-05c79fbcd8bc",
       "rows": [
        [
         "0",
         "1",
         "Ghana",
         "Education",
         "130",
         "386441",
         "Low",
         "Awareness",
         "CRM, WhatsApp, E-commerce",
         "11",
         "Seed",
         "No",
         "No Policy",
         "2972.623076923077"
        ],
        [
         "1",
         "2",
         "Rwanda",
         "Farming",
         "367",
         "383576",
         "Low",
         "Internet",
         "WhatsApp",
         "27",
         "Series A",
         "Yes",
         "Partial",
         "1045.16621253406"
        ],
        [
         "2",
         "3",
         "Kenya",
         "Farming",
         "87",
         "496528",
         "Low",
         "Awareness, Internet",
         "Google My Business, Mobile money, POS",
         "1",
         "Bootstrapped",
         "No",
         "Full",
         "5707.218390804598"
        ],
        [
         "3",
         "4",
         "Kenya",
         "Manufacturing",
         "131",
         "360550",
         "High",
         "Regulation",
         "Google My Business, E-commerce, POS",
         "6",
         "Unknown",
         "Yes",
         "Full",
         "2752.290076335878"
        ],
        [
         "4",
         "5",
         "Nigeria",
         "Logistics",
         "136",
         "173801",
         "High",
         "Regulation, Skills",
         "E-commerce",
         "44",
         "Series A",
         "Yes",
         "Partial",
         "1277.9485294117646"
        ]
       ],
       "shape": {
        "columns": 13,
        "rows": 5
       }
      },
      "text/html": [
       "<div>\n",
       "<style scoped>\n",
       "    .dataframe tbody tr th:only-of-type {\n",
       "        vertical-align: middle;\n",
       "    }\n",
       "\n",
       "    .dataframe tbody tr th {\n",
       "        vertical-align: top;\n",
       "    }\n",
       "\n",
       "    .dataframe thead th {\n",
       "        text-align: right;\n",
       "    }\n",
       "</style>\n",
       "<table border=\"1\" class=\"dataframe\">\n",
       "  <thead>\n",
       "    <tr style=\"text-align: right;\">\n",
       "      <th></th>\n",
       "      <th>company_id</th>\n",
       "      <th>country</th>\n",
       "      <th>sector</th>\n",
       "      <th>employees</th>\n",
       "      <th>annual_revenue</th>\n",
       "      <th>tech_adoption_level</th>\n",
       "      <th>main_challenges</th>\n",
       "      <th>digital_tools_used</th>\n",
       "      <th>growth_last_yr</th>\n",
       "      <th>funding_status</th>\n",
       "      <th>female_owned</th>\n",
       "      <th>remote_work_policy</th>\n",
       "      <th>revenue_per_employee</th>\n",
       "    </tr>\n",
       "  </thead>\n",
       "  <tbody>\n",
       "    <tr>\n",
       "      <th>0</th>\n",
       "      <td>1</td>\n",
       "      <td>Ghana</td>\n",
       "      <td>Education</td>\n",
       "      <td>130</td>\n",
       "      <td>386441</td>\n",
       "      <td>Low</td>\n",
       "      <td>Awareness</td>\n",
       "      <td>CRM, WhatsApp, E-commerce</td>\n",
       "      <td>11</td>\n",
       "      <td>Seed</td>\n",
       "      <td>No</td>\n",
       "      <td>No Policy</td>\n",
       "      <td>2972.623077</td>\n",
       "    </tr>\n",
       "    <tr>\n",
       "      <th>1</th>\n",
       "      <td>2</td>\n",
       "      <td>Rwanda</td>\n",
       "      <td>Farming</td>\n",
       "      <td>367</td>\n",
       "      <td>383576</td>\n",
       "      <td>Low</td>\n",
       "      <td>Internet</td>\n",
       "      <td>WhatsApp</td>\n",
       "      <td>27</td>\n",
       "      <td>Series A</td>\n",
       "      <td>Yes</td>\n",
       "      <td>Partial</td>\n",
       "      <td>1045.166213</td>\n",
       "    </tr>\n",
       "    <tr>\n",
       "      <th>2</th>\n",
       "      <td>3</td>\n",
       "      <td>Kenya</td>\n",
       "      <td>Farming</td>\n",
       "      <td>87</td>\n",
       "      <td>496528</td>\n",
       "      <td>Low</td>\n",
       "      <td>Awareness, Internet</td>\n",
       "      <td>Google My Business, Mobile money, POS</td>\n",
       "      <td>1</td>\n",
       "      <td>Bootstrapped</td>\n",
       "      <td>No</td>\n",
       "      <td>Full</td>\n",
       "      <td>5707.218391</td>\n",
       "    </tr>\n",
       "    <tr>\n",
       "      <th>3</th>\n",
       "      <td>4</td>\n",
       "      <td>Kenya</td>\n",
       "      <td>Manufacturing</td>\n",
       "      <td>131</td>\n",
       "      <td>360550</td>\n",
       "      <td>High</td>\n",
       "      <td>Regulation</td>\n",
       "      <td>Google My Business, E-commerce, POS</td>\n",
       "      <td>6</td>\n",
       "      <td>Unknown</td>\n",
       "      <td>Yes</td>\n",
       "      <td>Full</td>\n",
       "      <td>2752.290076</td>\n",
       "    </tr>\n",
       "    <tr>\n",
       "      <th>4</th>\n",
       "      <td>5</td>\n",
       "      <td>Nigeria</td>\n",
       "      <td>Logistics</td>\n",
       "      <td>136</td>\n",
       "      <td>173801</td>\n",
       "      <td>High</td>\n",
       "      <td>Regulation, Skills</td>\n",
       "      <td>E-commerce</td>\n",
       "      <td>44</td>\n",
       "      <td>Series A</td>\n",
       "      <td>Yes</td>\n",
       "      <td>Partial</td>\n",
       "      <td>1277.948529</td>\n",
       "    </tr>\n",
       "  </tbody>\n",
       "</table>\n",
       "</div>"
      ],
      "text/plain": [
       "   company_id  country         sector  employees  annual_revenue  \\\n",
       "0           1    Ghana      Education        130          386441   \n",
       "1           2   Rwanda        Farming        367          383576   \n",
       "2           3    Kenya        Farming         87          496528   \n",
       "3           4    Kenya  Manufacturing        131          360550   \n",
       "4           5  Nigeria      Logistics        136          173801   \n",
       "\n",
       "  tech_adoption_level      main_challenges  \\\n",
       "0                 Low            Awareness   \n",
       "1                 Low             Internet   \n",
       "2                 Low  Awareness, Internet   \n",
       "3                High           Regulation   \n",
       "4                High   Regulation, Skills   \n",
       "\n",
       "                      digital_tools_used  growth_last_yr funding_status  \\\n",
       "0              CRM, WhatsApp, E-commerce              11           Seed   \n",
       "1                               WhatsApp              27       Series A   \n",
       "2  Google My Business, Mobile money, POS               1   Bootstrapped   \n",
       "3    Google My Business, E-commerce, POS               6        Unknown   \n",
       "4                             E-commerce              44       Series A   \n",
       "\n",
       "  female_owned remote_work_policy  revenue_per_employee  \n",
       "0           No          No Policy           2972.623077  \n",
       "1          Yes            Partial           1045.166213  \n",
       "2           No               Full           5707.218391  \n",
       "3          Yes               Full           2752.290076  \n",
       "4          Yes            Partial           1277.948529  "
      ]
     },
     "execution_count": 25,
     "metadata": {},
     "output_type": "execute_result"
    }
   ],
   "source": [
    "data['revenue_per_employee'] = data['annual_revenue']/data['employees']\n",
    "data['revenue_per_employee'] = data['revenue_per_employee'].replace([np.inf, -np.inf], np.nan)\n",
    "data.head()"
   ]
  },
  {
   "cell_type": "code",
   "execution_count": 26,
   "id": "ee50036c",
   "metadata": {},
   "outputs": [],
   "source": [
    "'''if a company is tiny and has low technology use, then it's compliance risk is high and if it has ten to fifteen employees we assume medium risk and larger\n",
    "companies with better digital tools are considered low risk'''\n",
    "\n",
    "def compliance_risk(row):\n",
    "    if row['employees'] < 10 and row[\"tech_adoption_level\"] in [\"Low\", \"None\"]:\n",
    "        return \"High\"\n",
    "    elif 10 <= row[\"employees\"] <= 50:\n",
    "        return \"Medium\"\n",
    "    else:\n",
    "        return \"Low\"\n",
    "\n",
    "#applies that function to evert row and createa a new column which is now the taret variaable for the risk model \n",
    "data['Compliance_risk'] = data.apply(compliance_risk, axis = 1)"
   ]
  },
  {
   "cell_type": "code",
   "execution_count": 27,
   "id": "fb9cb180",
   "metadata": {},
   "outputs": [],
   "source": [
    "categorical_cols=data.select_dtypes(include='object')\n",
    "categorical_cols.columns.to_list()\n",
    "label_encoders = {}\n",
    "\n",
    "for col in categorical_cols:\n",
    "    le = LabelEncoder()\n",
    "    data[col]=le.fit_transform(data[col].astype(str))\n",
    "    label_encoders[col] = le"
   ]
  },
  {
   "cell_type": "code",
   "execution_count": 28,
   "id": "968eda33",
   "metadata": {},
   "outputs": [
    {
     "data": {
      "application/vnd.microsoft.datawrangler.viewer.v0+json": {
       "columns": [
        {
         "name": "index",
         "rawType": "int64",
         "type": "integer"
        },
        {
         "name": "company_id",
         "rawType": "float64",
         "type": "float"
        },
        {
         "name": "country",
         "rawType": "float64",
         "type": "float"
        },
        {
         "name": "sector",
         "rawType": "float64",
         "type": "float"
        },
        {
         "name": "employees",
         "rawType": "float64",
         "type": "float"
        },
        {
         "name": "annual_revenue",
         "rawType": "float64",
         "type": "float"
        },
        {
         "name": "tech_adoption_level",
         "rawType": "float64",
         "type": "float"
        },
        {
         "name": "main_challenges",
         "rawType": "float64",
         "type": "float"
        },
        {
         "name": "digital_tools_used",
         "rawType": "float64",
         "type": "float"
        },
        {
         "name": "growth_last_yr",
         "rawType": "float64",
         "type": "float"
        },
        {
         "name": "funding_status",
         "rawType": "float64",
         "type": "float"
        },
        {
         "name": "female_owned",
         "rawType": "float64",
         "type": "float"
        },
        {
         "name": "remote_work_policy",
         "rawType": "float64",
         "type": "float"
        },
        {
         "name": "revenue_per_employee",
         "rawType": "float64",
         "type": "float"
        },
        {
         "name": "Compliance_risk",
         "rawType": "float64",
         "type": "float"
        }
       ],
       "ref": "2eb040fe-033c-4fea-b848-8c9bdcd241b3",
       "rows": [
        [
         "0",
         "-1.7303196219213355",
         "-1.3542992365827737",
         "-1.4600910189842748",
         "-0.8823363403411483",
         "1.0131559491008388",
         "0.0024253633837955394",
         "-1.5186838536897205",
         "-1.1464628142741158",
         "-0.7049455139061827",
         "-0.4802790007119755",
         "-0.9569267538639185",
         "0.03039808571042958",
         "0.07618742240330141",
         "-0.2759165388903954"
        ],
        [
         "1",
         "-1.7268555185741457",
         "0.797659296122905",
         "-0.8799992355181346",
         "0.7588524637403811",
         "0.9923659360092324",
         "0.0024253633837955394",
         "-0.14976024300852292",
         "1.297018878579971",
         "0.2790140274441551",
         "0.4225010758142942",
         "1.0450120617509737",
         "1.2463215141276116",
         "-0.2468726963118935",
         "-0.2759165388903954"
        ],
        [
         "2",
         "-1.7233914152269558",
         "-0.6369797256808808",
         "-0.8799992355181346",
         "-1.1801047731491894",
         "1.8120076668026475",
         "0.0024253633837955394",
         "-1.244899131553481",
         "-0.1831671468989469",
         "-1.3199202272501438",
         "-1.3830590772382452",
         "-0.9569267538639185",
         "-1.1855253427067527",
         "0.5345316287316856",
         "-0.2759165388903954"
        ],
        [
         "3",
         "-1.719927311879766",
         "-0.6369797256808808",
         "0.860276114880286",
         "-0.8754114930665426",
         "0.8252766370747365",
         "-1.210256328513973",
         "0.5347015623320759",
         "-0.3006422282861626",
         "-1.0124328705781631",
         "1.3252811523405639",
         "1.0450120617509737",
         "-1.1855253427067527",
         "0.039257514065695547",
         "-0.2759165388903954"
        ],
        [
         "4",
         "-1.7164632085325762",
         "0.08033978522101208",
         "0.2801843314141458",
         "-0.8407872566935146",
         "-0.5298766455934718",
         "-1.210256328513973",
         "1.0822710066045549",
         "-1.0524827491643431",
         "1.3244710401288888",
         "0.4225010758142942",
         "1.0450120617509737",
         "1.2463215141276116",
         "-0.20785616405390817",
         "-0.2759165388903954"
        ]
       ],
       "shape": {
        "columns": 14,
        "rows": 5
       }
      },
      "text/html": [
       "<div>\n",
       "<style scoped>\n",
       "    .dataframe tbody tr th:only-of-type {\n",
       "        vertical-align: middle;\n",
       "    }\n",
       "\n",
       "    .dataframe tbody tr th {\n",
       "        vertical-align: top;\n",
       "    }\n",
       "\n",
       "    .dataframe thead th {\n",
       "        text-align: right;\n",
       "    }\n",
       "</style>\n",
       "<table border=\"1\" class=\"dataframe\">\n",
       "  <thead>\n",
       "    <tr style=\"text-align: right;\">\n",
       "      <th></th>\n",
       "      <th>company_id</th>\n",
       "      <th>country</th>\n",
       "      <th>sector</th>\n",
       "      <th>employees</th>\n",
       "      <th>annual_revenue</th>\n",
       "      <th>tech_adoption_level</th>\n",
       "      <th>main_challenges</th>\n",
       "      <th>digital_tools_used</th>\n",
       "      <th>growth_last_yr</th>\n",
       "      <th>funding_status</th>\n",
       "      <th>female_owned</th>\n",
       "      <th>remote_work_policy</th>\n",
       "      <th>revenue_per_employee</th>\n",
       "      <th>Compliance_risk</th>\n",
       "    </tr>\n",
       "  </thead>\n",
       "  <tbody>\n",
       "    <tr>\n",
       "      <th>0</th>\n",
       "      <td>-1.730320</td>\n",
       "      <td>-1.354299</td>\n",
       "      <td>-1.460091</td>\n",
       "      <td>-0.882336</td>\n",
       "      <td>1.013156</td>\n",
       "      <td>0.002425</td>\n",
       "      <td>-1.518684</td>\n",
       "      <td>-1.146463</td>\n",
       "      <td>-0.704946</td>\n",
       "      <td>-0.480279</td>\n",
       "      <td>-0.956927</td>\n",
       "      <td>0.030398</td>\n",
       "      <td>0.076187</td>\n",
       "      <td>-0.275917</td>\n",
       "    </tr>\n",
       "    <tr>\n",
       "      <th>1</th>\n",
       "      <td>-1.726856</td>\n",
       "      <td>0.797659</td>\n",
       "      <td>-0.879999</td>\n",
       "      <td>0.758852</td>\n",
       "      <td>0.992366</td>\n",
       "      <td>0.002425</td>\n",
       "      <td>-0.149760</td>\n",
       "      <td>1.297019</td>\n",
       "      <td>0.279014</td>\n",
       "      <td>0.422501</td>\n",
       "      <td>1.045012</td>\n",
       "      <td>1.246322</td>\n",
       "      <td>-0.246873</td>\n",
       "      <td>-0.275917</td>\n",
       "    </tr>\n",
       "    <tr>\n",
       "      <th>2</th>\n",
       "      <td>-1.723391</td>\n",
       "      <td>-0.636980</td>\n",
       "      <td>-0.879999</td>\n",
       "      <td>-1.180105</td>\n",
       "      <td>1.812008</td>\n",
       "      <td>0.002425</td>\n",
       "      <td>-1.244899</td>\n",
       "      <td>-0.183167</td>\n",
       "      <td>-1.319920</td>\n",
       "      <td>-1.383059</td>\n",
       "      <td>-0.956927</td>\n",
       "      <td>-1.185525</td>\n",
       "      <td>0.534532</td>\n",
       "      <td>-0.275917</td>\n",
       "    </tr>\n",
       "    <tr>\n",
       "      <th>3</th>\n",
       "      <td>-1.719927</td>\n",
       "      <td>-0.636980</td>\n",
       "      <td>0.860276</td>\n",
       "      <td>-0.875411</td>\n",
       "      <td>0.825277</td>\n",
       "      <td>-1.210256</td>\n",
       "      <td>0.534702</td>\n",
       "      <td>-0.300642</td>\n",
       "      <td>-1.012433</td>\n",
       "      <td>1.325281</td>\n",
       "      <td>1.045012</td>\n",
       "      <td>-1.185525</td>\n",
       "      <td>0.039258</td>\n",
       "      <td>-0.275917</td>\n",
       "    </tr>\n",
       "    <tr>\n",
       "      <th>4</th>\n",
       "      <td>-1.716463</td>\n",
       "      <td>0.080340</td>\n",
       "      <td>0.280184</td>\n",
       "      <td>-0.840787</td>\n",
       "      <td>-0.529877</td>\n",
       "      <td>-1.210256</td>\n",
       "      <td>1.082271</td>\n",
       "      <td>-1.052483</td>\n",
       "      <td>1.324471</td>\n",
       "      <td>0.422501</td>\n",
       "      <td>1.045012</td>\n",
       "      <td>1.246322</td>\n",
       "      <td>-0.207856</td>\n",
       "      <td>-0.275917</td>\n",
       "    </tr>\n",
       "  </tbody>\n",
       "</table>\n",
       "</div>"
      ],
      "text/plain": [
       "   company_id   country    sector  employees  annual_revenue  \\\n",
       "0   -1.730320 -1.354299 -1.460091  -0.882336        1.013156   \n",
       "1   -1.726856  0.797659 -0.879999   0.758852        0.992366   \n",
       "2   -1.723391 -0.636980 -0.879999  -1.180105        1.812008   \n",
       "3   -1.719927 -0.636980  0.860276  -0.875411        0.825277   \n",
       "4   -1.716463  0.080340  0.280184  -0.840787       -0.529877   \n",
       "\n",
       "   tech_adoption_level  main_challenges  digital_tools_used  growth_last_yr  \\\n",
       "0             0.002425        -1.518684           -1.146463       -0.704946   \n",
       "1             0.002425        -0.149760            1.297019        0.279014   \n",
       "2             0.002425        -1.244899           -0.183167       -1.319920   \n",
       "3            -1.210256         0.534702           -0.300642       -1.012433   \n",
       "4            -1.210256         1.082271           -1.052483        1.324471   \n",
       "\n",
       "   funding_status  female_owned  remote_work_policy  revenue_per_employee  \\\n",
       "0       -0.480279     -0.956927            0.030398              0.076187   \n",
       "1        0.422501      1.045012            1.246322             -0.246873   \n",
       "2       -1.383059     -0.956927           -1.185525              0.534532   \n",
       "3        1.325281      1.045012           -1.185525              0.039258   \n",
       "4        0.422501      1.045012            1.246322             -0.207856   \n",
       "\n",
       "   Compliance_risk  \n",
       "0        -0.275917  \n",
       "1        -0.275917  \n",
       "2        -0.275917  \n",
       "3        -0.275917  \n",
       "4        -0.275917  "
      ]
     },
     "execution_count": 28,
     "metadata": {},
     "output_type": "execute_result"
    }
   ],
   "source": [
    "numerical_cols = data.select_dtypes(include=['int64','float64'])\n",
    "scaler=StandardScaler()\n",
    "\n",
    "for col in numerical_cols:\n",
    "    data[col] = scaler.fit_transform(data[[col]])\n",
    "\n",
    "data.head()"
   ]
  },
  {
   "cell_type": "code",
   "execution_count": 29,
   "id": "b3016983",
   "metadata": {},
   "outputs": [
    {
     "data": {
      "text/plain": [
       "['company_id',\n",
       " 'country',\n",
       " 'sector',\n",
       " 'employees',\n",
       " 'annual_revenue',\n",
       " 'tech_adoption_level',\n",
       " 'main_challenges',\n",
       " 'digital_tools_used',\n",
       " 'growth_last_yr',\n",
       " 'funding_status',\n",
       " 'female_owned',\n",
       " 'remote_work_policy',\n",
       " 'revenue_per_employee',\n",
       " 'Compliance_risk']"
      ]
     },
     "execution_count": 29,
     "metadata": {},
     "output_type": "execute_result"
    }
   ],
   "source": [
    "data.columns.to_list()"
   ]
  },
  {
   "cell_type": "code",
   "execution_count": 30,
   "id": "846fe091",
   "metadata": {},
   "outputs": [],
   "source": [
    "# Growth model\n",
    "X_growth = data.drop(columns=['growth_last_yr'])\n",
    "y_growth = data['growth_last_yr']\n",
    "\n",
    "# Funding model\n",
    "X_funding = data.drop(columns=['funding_status'])\n",
    "y_funding = data['funding_status']\n",
    "\n",
    "# Compliance risk model\n",
    "X_risk = data.drop(columns=['Compliance_risk'])\n",
    "y_risk = data['Compliance_risk']\n"
   ]
  },
  {
   "cell_type": "code",
   "execution_count": 31,
   "id": "587baaa6",
   "metadata": {},
   "outputs": [],
   "source": [
    "#Growth Model Split ---\n",
    "growth_train = Xg_train.copy()\n",
    "growth_train[\"growth_last_yr\"] = yg_train\n",
    "growth_test = Xg_test.copy()\n",
    "growth_test[\"growth_last_yr\"] = yg_test\n",
    "growth_train.to_csv(PROCESSED_DIR / \"growth_train.csv\", index=False)\n",
    "growth_test.to_csv(PROCESSED_DIR / \"growth_test.csv\", index=False)\n",
    "\n",
    "\n",
    "#Funding Model Split ---\n",
    "Xf_train, Xf_test, yf_train, yf_test = train_test_split(X_funding, y_funding, test_size=0.2, random_state=42)\n",
    "Xf_train.to_csv(PROCESSED_DIR / \"funding_train.csv\", index=False)\n",
    "Xf_test.to_csv(PROCESSED_DIR / \"funding_test.csv\", index=False)\n",
    "\n",
    "# Compliance Risk Model Split ---\n",
    "Xr_train, Xr_test, yr_train, yr_test = train_test_split(X_risk, y_risk, test_size=0.2, random_state=42)\n",
    "Xr_train.to_csv(PROCESSED_DIR / \"risk_train.csv\", index=False)\n",
    "Xr_test.to_csv(PROCESSED_DIR / \"risk_test.csv\", index=False)"
   ]
  },
  {
   "cell_type": "code",
   "execution_count": 32,
   "id": "35be34aa",
   "metadata": {},
   "outputs": [
    {
     "name": "stdout",
     "output_type": "stream",
     "text": [
      "The shape of the training for growth is dataset is (800, 13)\n",
      "The shape of the training for funding is dataset is (800, 13)\n",
      "The shape of the training for risk is dataset is (800, 13)\n"
     ]
    }
   ],
   "source": [
    "print(f'The shape of the training for growth is dataset is {Xg_train.shape}')\n",
    "print(f'The shape of the training for funding is dataset is {Xf_train.shape}')\n",
    "print(f'The shape of the training for risk is dataset is {Xr_train.shape}')"
   ]
  },
  {
   "cell_type": "code",
   "execution_count": 33,
   "id": "28983a6a",
   "metadata": {},
   "outputs": [
    {
     "data": {
      "application/vnd.microsoft.datawrangler.viewer.v0+json": {
       "columns": [
        {
         "name": "index",
         "rawType": "int64",
         "type": "integer"
        },
        {
         "name": "company_id",
         "rawType": "int64",
         "type": "integer"
        },
        {
         "name": "country",
         "rawType": "object",
         "type": "string"
        },
        {
         "name": "sector",
         "rawType": "object",
         "type": "string"
        },
        {
         "name": "employees",
         "rawType": "int64",
         "type": "integer"
        },
        {
         "name": "annual_revenue",
         "rawType": "int64",
         "type": "integer"
        },
        {
         "name": "tech_adoption_level",
         "rawType": "object",
         "type": "string"
        },
        {
         "name": "main_challenges",
         "rawType": "object",
         "type": "string"
        },
        {
         "name": "digital_tools_used",
         "rawType": "object",
         "type": "string"
        },
        {
         "name": "growth_last_yr",
         "rawType": "int64",
         "type": "integer"
        },
        {
         "name": "funding_status",
         "rawType": "object",
         "type": "string"
        },
        {
         "name": "female_owned",
         "rawType": "object",
         "type": "string"
        },
        {
         "name": "remote_work_policy",
         "rawType": "object",
         "type": "string"
        }
       ],
       "ref": "4357d94c-9699-49d6-bae5-b40306d2b041",
       "rows": [
        [
         "0",
         "1",
         "Ghana",
         "Education",
         "130",
         "386441",
         "Low",
         "Awareness",
         "CRM, WhatsApp, E-commerce",
         "11",
         "Seed",
         "No",
         "No Policy"
        ],
        [
         "1",
         "2",
         "Rwanda",
         "Farming",
         "367",
         "383576",
         "Low",
         "Internet",
         "WhatsApp",
         "27",
         "Series A",
         "Yes",
         "Partial"
        ],
        [
         "2",
         "3",
         "Kenya",
         "Farming",
         "87",
         "496528",
         "Low",
         "Awareness, Internet",
         "Google My Business, Mobile money, POS",
         "1",
         "Bootstrapped",
         "No",
         "Full"
        ],
        [
         "3",
         "4",
         "Kenya",
         "Manufacturing",
         "131",
         "360550",
         "High",
         "Regulation",
         "Google My Business, E-commerce, POS",
         "6",
         "Unknown",
         "Yes",
         "Full"
        ],
        [
         "4",
         "5",
         "Nigeria",
         "Logistics",
         "136",
         "173801",
         "High",
         "Regulation, Skills",
         "E-commerce",
         "44",
         "Series A",
         "Yes",
         "Partial"
        ]
       ],
       "shape": {
        "columns": 12,
        "rows": 5
       }
      },
      "text/html": [
       "<div>\n",
       "<style scoped>\n",
       "    .dataframe tbody tr th:only-of-type {\n",
       "        vertical-align: middle;\n",
       "    }\n",
       "\n",
       "    .dataframe tbody tr th {\n",
       "        vertical-align: top;\n",
       "    }\n",
       "\n",
       "    .dataframe thead th {\n",
       "        text-align: right;\n",
       "    }\n",
       "</style>\n",
       "<table border=\"1\" class=\"dataframe\">\n",
       "  <thead>\n",
       "    <tr style=\"text-align: right;\">\n",
       "      <th></th>\n",
       "      <th>company_id</th>\n",
       "      <th>country</th>\n",
       "      <th>sector</th>\n",
       "      <th>employees</th>\n",
       "      <th>annual_revenue</th>\n",
       "      <th>tech_adoption_level</th>\n",
       "      <th>main_challenges</th>\n",
       "      <th>digital_tools_used</th>\n",
       "      <th>growth_last_yr</th>\n",
       "      <th>funding_status</th>\n",
       "      <th>female_owned</th>\n",
       "      <th>remote_work_policy</th>\n",
       "    </tr>\n",
       "  </thead>\n",
       "  <tbody>\n",
       "    <tr>\n",
       "      <th>0</th>\n",
       "      <td>1</td>\n",
       "      <td>Ghana</td>\n",
       "      <td>Education</td>\n",
       "      <td>130</td>\n",
       "      <td>386441</td>\n",
       "      <td>Low</td>\n",
       "      <td>Awareness</td>\n",
       "      <td>CRM, WhatsApp, E-commerce</td>\n",
       "      <td>11</td>\n",
       "      <td>Seed</td>\n",
       "      <td>No</td>\n",
       "      <td>No Policy</td>\n",
       "    </tr>\n",
       "    <tr>\n",
       "      <th>1</th>\n",
       "      <td>2</td>\n",
       "      <td>Rwanda</td>\n",
       "      <td>Farming</td>\n",
       "      <td>367</td>\n",
       "      <td>383576</td>\n",
       "      <td>Low</td>\n",
       "      <td>Internet</td>\n",
       "      <td>WhatsApp</td>\n",
       "      <td>27</td>\n",
       "      <td>Series A</td>\n",
       "      <td>Yes</td>\n",
       "      <td>Partial</td>\n",
       "    </tr>\n",
       "    <tr>\n",
       "      <th>2</th>\n",
       "      <td>3</td>\n",
       "      <td>Kenya</td>\n",
       "      <td>Farming</td>\n",
       "      <td>87</td>\n",
       "      <td>496528</td>\n",
       "      <td>Low</td>\n",
       "      <td>Awareness, Internet</td>\n",
       "      <td>Google My Business, Mobile money, POS</td>\n",
       "      <td>1</td>\n",
       "      <td>Bootstrapped</td>\n",
       "      <td>No</td>\n",
       "      <td>Full</td>\n",
       "    </tr>\n",
       "    <tr>\n",
       "      <th>3</th>\n",
       "      <td>4</td>\n",
       "      <td>Kenya</td>\n",
       "      <td>Manufacturing</td>\n",
       "      <td>131</td>\n",
       "      <td>360550</td>\n",
       "      <td>High</td>\n",
       "      <td>Regulation</td>\n",
       "      <td>Google My Business, E-commerce, POS</td>\n",
       "      <td>6</td>\n",
       "      <td>Unknown</td>\n",
       "      <td>Yes</td>\n",
       "      <td>Full</td>\n",
       "    </tr>\n",
       "    <tr>\n",
       "      <th>4</th>\n",
       "      <td>5</td>\n",
       "      <td>Nigeria</td>\n",
       "      <td>Logistics</td>\n",
       "      <td>136</td>\n",
       "      <td>173801</td>\n",
       "      <td>High</td>\n",
       "      <td>Regulation, Skills</td>\n",
       "      <td>E-commerce</td>\n",
       "      <td>44</td>\n",
       "      <td>Series A</td>\n",
       "      <td>Yes</td>\n",
       "      <td>Partial</td>\n",
       "    </tr>\n",
       "  </tbody>\n",
       "</table>\n",
       "</div>"
      ],
      "text/plain": [
       "   company_id  country         sector  employees  annual_revenue  \\\n",
       "0           1    Ghana      Education        130          386441   \n",
       "1           2   Rwanda        Farming        367          383576   \n",
       "2           3    Kenya        Farming         87          496528   \n",
       "3           4    Kenya  Manufacturing        131          360550   \n",
       "4           5  Nigeria      Logistics        136          173801   \n",
       "\n",
       "  tech_adoption_level      main_challenges  \\\n",
       "0                 Low            Awareness   \n",
       "1                 Low             Internet   \n",
       "2                 Low  Awareness, Internet   \n",
       "3                High           Regulation   \n",
       "4                High   Regulation, Skills   \n",
       "\n",
       "                      digital_tools_used  growth_last_yr funding_status  \\\n",
       "0              CRM, WhatsApp, E-commerce              11           Seed   \n",
       "1                               WhatsApp              27       Series A   \n",
       "2  Google My Business, Mobile money, POS               1   Bootstrapped   \n",
       "3    Google My Business, E-commerce, POS               6        Unknown   \n",
       "4                             E-commerce              44       Series A   \n",
       "\n",
       "  female_owned remote_work_policy  \n",
       "0           No          No Policy  \n",
       "1          Yes            Partial  \n",
       "2           No               Full  \n",
       "3          Yes               Full  \n",
       "4          Yes            Partial  "
      ]
     },
     "execution_count": 33,
     "metadata": {},
     "output_type": "execute_result"
    }
   ],
   "source": [
    "import pandas as pd\n",
    "df = pd.read_csv(PROCESSED_DIR / \"Clean_data.csv\")\n",
    "df.columns=df.columns.str.strip()\n",
    "\n",
    "df.head()\n",
    "\n"
   ]
  },
  {
   "cell_type": "code",
   "execution_count": null,
   "id": "0302d4ce",
   "metadata": {},
   "outputs": [],
   "source": []
  }
 ],
 "metadata": {
  "kernelspec": {
   "display_name": "venv (3.10.0)",
   "language": "python",
   "name": "python3"
  },
  "language_info": {
   "codemirror_mode": {
    "name": "ipython",
    "version": 3
   },
   "file_extension": ".py",
   "mimetype": "text/x-python",
   "name": "python",
   "nbconvert_exporter": "python",
   "pygments_lexer": "ipython3",
   "version": "3.10.0"
  }
 },
 "nbformat": 4,
 "nbformat_minor": 5
}
