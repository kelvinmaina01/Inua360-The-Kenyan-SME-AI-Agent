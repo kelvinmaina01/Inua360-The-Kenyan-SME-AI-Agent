{
 "cells": [
  {
   "cell_type": "code",
   "execution_count": null,
   "id": "97bd84c9",
   "metadata": {},
   "outputs": [],
   "source": [
    "import pandas as pd\n",
    "import numpy as np\n",
    "from sklearn.preprocessing import LabelEncoder, OneHotEncoder\n",
    "from sklearn.model_selection import train_test_split\n",
    "from sklearn.compose import ColumnTransformer\n",
    "from sklearn.preprocessing import StandardScaler\n",
    "import os\n",
    "from pathlib import Path"
   ]
  },
  {
   "cell_type": "code",
   "execution_count": null,
   "id": "f52f9d95",
   "metadata": {},
   "outputs": [],
   "source": [
    "data=pd.read_csv(r'C:\\Users\\USER\\Desktop\\Inua360-The-Kenyan-SME-AI-Agent\\data\\interim\\Clean_data.csv')\n",
    "data.columns = data.columns.str.strip()\n",
    "data.head()"
   ]
  },
  {
   "cell_type": "code",
   "execution_count": null,
   "id": "ba04d880",
   "metadata": {},
   "outputs": [],
   "source": [
    "data.columns = data.columns.str.strip()"
   ]
  },
  {
   "cell_type": "code",
   "execution_count": null,
   "id": "183a1f4a",
   "metadata": {},
   "outputs": [],
   "source": [
    "data.columns.to_list()"
   ]
  },
  {
   "cell_type": "code",
   "execution_count": null,
   "id": "966d5da6",
   "metadata": {},
   "outputs": [],
   "source": [
    "data['revenue_per_employee'] = data['annual_revenue']/data['employees']\n",
    "data['revenue_per_employee'] = data['revenue_per_employee'].replace([np.inf, -np.inf], np.nan)\n",
    "data.head()"
   ]
  },
  {
   "cell_type": "code",
   "execution_count": null,
   "id": "ee50036c",
   "metadata": {},
   "outputs": [],
   "source": [
    "'''if a company is tiny and has low technology use, then it's compliance risk is high and if it has ten to fifteen employees we assume medium risk and larger\n",
    "companies with better digital tools are considered low risk'''\n",
    "\n",
    "def compliance_risk(row):\n",
    "    if row['employees'] < 10 and row[\"tech_adoption_level\"] in [\"Low\", \"None\"]:\n",
    "        return \"High\"\n",
    "    elif 10 <= row[\"employees\"] <= 50:\n",
    "        return \"Medium\"\n",
    "    else:\n",
    "        return \"Low\"\n",
    "\n",
    "#applies that function to evert row and createa a new column which is now the taret variaable for the risk model \n",
    "data['Compliance_risk'] = data.apply(compliance_risk, axis = 1)\n",
    "\n",
    "\n",
    "data.head()"
   ]
  },
  {
   "cell_type": "code",
   "execution_count": null,
   "id": "fb9cb180",
   "metadata": {},
   "outputs": [],
   "source": [
    "categorical_cols=data.select_dtypes(include='object')\n",
    "categorical_cols.columns.to_list()\n",
    "label_encoders = {}\n",
    "\n",
    "for col in categorical_cols:\n",
    "    le = LabelEncoder()\n",
    "    data[col]=le.fit_transform(data[col].astype(str))\n",
    "    label_encoders[col] = le\n",
    "\n",
    "data.nunique()"
   ]
  },
  {
   "cell_type": "code",
   "execution_count": null,
   "id": "f3de3295",
   "metadata": {},
   "outputs": [],
   "source": [
    "funding_status=data['funding_status']\n",
    "\n",
    "data=data.drop('funding_status', axis=1)\n",
    "\n",
    "data.head()"
   ]
  },
  {
   "cell_type": "code",
   "execution_count": null,
   "id": "968eda33",
   "metadata": {},
   "outputs": [],
   "source": [
    "numerical_cols = data.select_dtypes(include=['int64','float64']).columns\n",
    "\n",
    "scaler = StandardScaler()\n",
    "\n",
    "for col in numerical_cols:\n",
    "    data[numerical_cols] = scaler.fit_transform(data[numerical_cols])\n",
    "\n",
    "data['funding_status'] = funding_status\n",
    "\n",
    "data.head()"
   ]
  },
  {
   "cell_type": "code",
   "execution_count": null,
   "id": "803756e6",
   "metadata": {},
   "outputs": [],
   "source": []
  }
 ],
 "metadata": {
  "kernelspec": {
   "display_name": "Python 3",
   "language": "python",
   "name": "python3"
  },
  "language_info": {
   "codemirror_mode": {
    "name": "ipython",
    "version": 3
   },
   "file_extension": ".py",
   "mimetype": "text/x-python",
   "name": "python",
   "nbconvert_exporter": "python",
   "pygments_lexer": "ipython3",
   "version": "3.10.11"
  }
 },
 "nbformat": 4,
 "nbformat_minor": 5
}
