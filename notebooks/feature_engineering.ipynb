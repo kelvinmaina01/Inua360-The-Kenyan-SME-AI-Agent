{
 "cells": [
  {
   "cell_type": "code",
   "execution_count": null,
   "id": "97bd84c9",
   "metadata": {},
   "outputs": [],
   "source": [
    "import pandas as pd\n",
    "import numpy as np\n",
    "from sklearn.preprocessing import LabelEncoder, OneHotEncoder\n",
    "from sklearn.model_selection import train_test_split\n",
    "from sklearn.compose import ColumnTransformer\n",
    "from sklearn.preprocessing import StandardScaler\n",
    "import os\n",
    "from pathlib import Path"
   ]
  },
  {
   "cell_type": "code",
   "execution_count": null,
   "id": "d71142ca",
   "metadata": {},
   "outputs": [],
   "source": [
    "processed_dir = Path(r\"C:\\Users\\USER\\Desktop\\Inua360-The-Kenyan-SME-AI-Agent\\data\\processed\")\n",
    "processed_dir.mkdir(parents=True, exist_ok=True)"
   ]
  },
  {
   "cell_type": "code",
   "execution_count": null,
   "id": "f52f9d95",
   "metadata": {},
   "outputs": [],
   "source": [
    "data=pd.read_csv(r'C:\\Users\\USER\\Desktop\\Inua360-The-Kenyan-SME-AI-Agent\\data\\interim\\Clean_data.csv')\n",
    "data.head()"
   ]
  },
  {
   "cell_type": "code",
   "execution_count": null,
   "id": "ba04d880",
   "metadata": {},
   "outputs": [],
   "source": [
    "data.columns = data.columns.str.strip()"
   ]
  },
  {
   "cell_type": "code",
   "execution_count": null,
   "id": "183a1f4a",
   "metadata": {},
   "outputs": [],
   "source": [
    "data.columns.to_list()"
   ]
  },
  {
   "cell_type": "code",
   "execution_count": null,
   "id": "966d5da6",
   "metadata": {},
   "outputs": [],
   "source": [
    "data['revenue_per_employee'] = data['annual_revenue']/data['employees']\n",
    "data['revenue_per_employee'] = data['revenue_per_employee'].replace([np.inf, -np.inf], np.nan)\n",
    "data.head()"
   ]
  },
  {
   "cell_type": "code",
   "execution_count": null,
   "id": "ee50036c",
   "metadata": {},
   "outputs": [],
   "source": [
    "'''if a company is tiny and has low technology use, then it's compliance risk is high and if it has ten to fifteen employees we assume medium risk and larger\n",
    "companies with better digital tools are considered low risk'''\n",
    "\n",
    "def compliance_risk(row):\n",
    "    if row['employees'] < 10 and row[\"tech_adoption_level\"] in [\"Low\", \"None\"]:\n",
    "        return \"High\"\n",
    "    elif 10 <= row[\"employees\"] <= 50:\n",
    "        return \"Medium\"\n",
    "    else:\n",
    "        return \"Low\"\n",
    "\n",
    "#applies that function to evert row and createa a new column which is now the taret variaable for the risk model \n",
    "data['Compliance_risk'] = data.apply(compliance_risk, axis = 1)"
   ]
  },
  {
   "cell_type": "code",
   "execution_count": null,
   "id": "fb9cb180",
   "metadata": {},
   "outputs": [],
   "source": [
    "categorical_cols=data.select_dtypes(include='object')\n",
    "categorical_cols.columns.to_list()\n",
    "label_encoders = {}\n",
    "\n",
    "for col in categorical_cols:\n",
    "    le = LabelEncoder()\n",
    "    data[col]=le.fit_transform(data[col].astype(str))\n",
    "    label_encoders[col] = le"
   ]
  },
  {
   "cell_type": "code",
   "execution_count": null,
   "id": "968eda33",
   "metadata": {},
   "outputs": [],
   "source": [
    "numerical_cols = data.select_dtypes(include=['int64','float64'])\n",
    "scaler=StandardScaler()\n",
    "\n",
    "for col in numerical_cols:\n",
    "    data[col] = scaler.fit_transform(data[[col]])\n",
    "\n",
    "data.head()"
   ]
  },
  {
   "cell_type": "code",
   "execution_count": null,
   "id": "b3016983",
   "metadata": {},
   "outputs": [],
   "source": [
    "data.columns.to_list()"
   ]
  },
  {
   "cell_type": "code",
   "execution_count": null,
   "id": "846fe091",
   "metadata": {},
   "outputs": [],
   "source": [
    "# Growth model\n",
    "X_growth = data.drop(columns=['growth_last_yr'])\n",
    "y_growth = data['growth_last_yr']\n",
    "\n",
    "# Funding model\n",
    "X_funding = data.drop(columns=['funding_status'])\n",
    "y_funding = data['funding_status']\n",
    "\n",
    "# Compliance risk model\n",
    "X_risk = data.drop(columns=['Compliance_risk'])\n",
    "y_risk = data['Compliance_risk']\n"
   ]
  },
  {
   "cell_type": "code",
   "execution_count": null,
   "id": "587baaa6",
   "metadata": {},
   "outputs": [],
   "source": [
    "#Growth Model Split ---\n",
    "Xg_train, Xg_test, yg_train, yg_test = train_test_split(X_growth, y_growth, test_size=0.2, random_state=42)\n",
    "Xg_train.to_csv(processed_dir / \"growth_train.csv\", index=False)\n",
    "Xg_test.to_csv(processed_dir / \"growth_test.csv\", index=False)\n",
    "\n",
    "#Funding Model Split ---\n",
    "Xf_train, Xf_test, yf_train, yf_test = train_test_split(X_funding, y_funding, test_size=0.2, random_state=42)\n",
    "Xf_train.to_csv(processed_dir / \"funding_train.csv\", index=False)\n",
    "Xf_test.to_csv(processed_dir / \"funding_test.csv\", index=False)\n",
    "\n",
    "# Compliance Risk Model Split ---\n",
    "Xr_train, Xr_test, yr_train, yr_test = train_test_split(X_risk, y_risk, test_size=0.2, random_state=42)\n",
    "Xr_train.to_csv(processed_dir / \"risk_train.csv\", index=False)\n",
    "Xr_test.to_csv(processed_dir / \"risk_test.csv\", index=False)"
   ]
  },
  {
   "cell_type": "code",
   "execution_count": null,
   "id": "35be34aa",
   "metadata": {},
   "outputs": [],
   "source": [
    "print(f'The shape of the training for growth is dataset is {Xg_train.shape}')\n",
    "print(f'The shape of the training for funding is dataset is {Xg_train.shape}')\n",
    "print(f'The shape of the training for risk is dataset is {Xg_train.shape}')"
   ]
  },
  {
   "cell_type": "code",
   "execution_count": null,
   "id": "28983a6a",
   "metadata": {},
   "outputs": [],
   "source": []
  }
 ],
 "metadata": {
  "kernelspec": {
   "display_name": "Python 3",
   "language": "python",
   "name": "python3"
  },
  "language_info": {
   "codemirror_mode": {
    "name": "ipython",
    "version": 3
   },
   "file_extension": ".py",
   "mimetype": "text/x-python",
   "name": "python",
   "nbconvert_exporter": "python",
   "pygments_lexer": "ipython3",
   "version": "3.10.11"
  }
 },
 "nbformat": 4,
 "nbformat_minor": 5
}
